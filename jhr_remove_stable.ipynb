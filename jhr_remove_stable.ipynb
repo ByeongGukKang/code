{
 "cells": [
  {
   "cell_type": "code",
   "execution_count": 1,
   "metadata": {},
   "outputs": [],
   "source": [
    "import numpy as np \n",
    "import pandas as pd \n",
    "import matplotlib.pyplot as plt"
   ]
  },
  {
   "attachments": {},
   "cell_type": "markdown",
   "metadata": {},
   "source": [
    "### Stable Coin 제거"
   ]
  },
  {
   "cell_type": "code",
   "execution_count": 2,
   "metadata": {},
   "outputs": [],
   "source": [
    "mktcap = pd.read_pickle(\"ryu_mktcap2.pickle\")"
   ]
  },
  {
   "cell_type": "code",
   "execution_count": 3,
   "metadata": {},
   "outputs": [
    {
     "data": {
      "text/plain": [
       "137"
      ]
     },
     "execution_count": 3,
     "metadata": {},
     "output_type": "execute_result"
    }
   ],
   "source": [
    "stable_coin = [\"USDT\",\"USDC\",\"BUSD\",\"DAI\",\"TUSD\",\"FRAX\",\n",
    "               \"USDP\",\"USDD\",\"GUSD\",\"FEI\",\"USDJ\",\"LUSD\",\n",
    "               \"USTC\",\"EURS\",\"TRIBE\",\"vUSDC\",\"USDX\",\n",
    "               \"vBUSD\",\"XSGD\",\"VAI\",\"SUSD\",\"CUSD\",\"SBD\",\n",
    "               \"vUSDT\",\"EUROC\",\"OUSD\",\"USDK\",\"RSV\",\"KRT\",\n",
    "               \"GYEN\",\"CEUR\",\"HUSD\",\"BIDR\",\"IDRT\",\"vDAI\",\n",
    "               \"DGD\",\"BITCNY\",\"XCHF\",\"DGX\",\"EOSDT\",\"BITUSD\",\n",
    "               \"ZUSD\",\"ESD\",\"USDS\",\"BAC\",\"ALUSD\",\"YUSD\",\n",
    "               \"USX\",\"MIM\",\"DOLA\",\"MIMATIC\",\"EURT\",\"MUSD\",\n",
    "               \"USDs\",\"AGEUR\",\"mCUSD\",\"TOR\",\"TRYB\",\"mCEUR\",\n",
    "               \"XIDR\",\"1GOLD\",\"USDS\",\"MXNT\",\"XSTUSD\",\"USDEX\",\n",
    "               \"CUSD\",\"MTR\",\"BRCP\",\"CUSDT\",\"SEUR\",\"xDAI\",\n",
    "               \"DUSD\",\"USDP\",\"USDH\",\"USDZ\",\"DJED\",\"JPYC\",\n",
    "               \"PAR\",\"WANUSDT\",\"ONC\",\"FUSD\",\"MUSD\",\"ONEICHI\",\n",
    "               \"FUSD\",\"CADC\",\"XUSD\",\"DSD\",\"JPYC\",\"USDB\",\"XUSD\",\n",
    "               \"MONEY\",\"USDR\",\"COFFIN\",\"IRON\",\"KBC\",\"DPT\",\"nUSD\",\n",
    "               \"STATIK\",\"USN\",\"USNBT\",\"BITGOLD\",\"BITEUR\",\"HGT\",\n",
    "               \"QC\",\"ITL\",\"CONST\",\"USDQ\",\"XEUR\",\"BGBP\",\"EBASE\",\n",
    "               \"BKRW\",\"USDEX\",\"USDL\",\"UETH\",\"BVND\",\"BSD\",\"SAC\",\n",
    "               \"USDEX\",\"ZUSD\",\"USDFL\",\"MDS\",\"MDO\",\"FLOAT\",\"fUSDT\",\n",
    "               \"FLUSD\",\"ARTH\",\"USDAP\",\"BEAN\",\"COUSD\",\"DUSD\",\"AUSD\",\n",
    "               \"fUSDT\",\"H2O\",\"IUSDS\",\"USDI\",\"GBPT\",\"EUROS\"]\n",
    "\n",
    "len(stable_coin)"
   ]
  },
  {
   "cell_type": "code",
   "execution_count": 4,
   "metadata": {},
   "outputs": [
    {
     "name": "stdout",
     "output_type": "stream",
     "text": [
      "0\n"
     ]
    }
   ],
   "source": [
    "symbol = mktcap.columns.to_list()\n",
    "\n",
    "in_symbol = [stable for stable in stable_coin if stable in symbol]\n",
    "\n",
    "# 우리 데이터 프레임에도 있는 코인은 여기에 들어가게 됨\n",
    "print(len(in_symbol))"
   ]
  },
  {
   "cell_type": "code",
   "execution_count": 15,
   "metadata": {},
   "outputs": [],
   "source": [
    "# 스테이블코인 을 드랍하자\n",
    "mkt = mktcap_screened.drop(in_symbol, axis=1)\n",
    "price = price_screened.drop(in_symbol, axis=1)\n",
    "\n",
    "mkt.to_pickle(\"ryu_mktcap.pickle\")\n",
    "price.to_pickle(\"ryu_price.pickle\")"
   ]
  },
  {
   "attachments": {},
   "cell_type": "markdown",
   "metadata": {},
   "source": [
    "Volume에서 Stable coin 제거하기"
   ]
  },
  {
   "cell_type": "code",
   "execution_count": 5,
   "metadata": {},
   "outputs": [],
   "source": [
    "vol = pd.read_pickle(\"ryu_24vol.pickle\")"
   ]
  },
  {
   "cell_type": "code",
   "execution_count": 6,
   "metadata": {},
   "outputs": [
    {
     "data": {
      "text/plain": [
       "0"
      ]
     },
     "execution_count": 6,
     "metadata": {},
     "output_type": "execute_result"
    }
   ],
   "source": [
    "symbol = vol.columns.to_list()\n",
    "\n",
    "in_symbol = [stable for stable in stable_coin if stable in symbol]\n",
    "\n",
    "len(in_symbol)"
   ]
  },
  {
   "cell_type": "code",
   "execution_count": 19,
   "metadata": {},
   "outputs": [],
   "source": [
    "v = vol.drop(in_symbol,axis=1)\n",
    "v.to_pickle(\"ryu_24vol.pickle\")"
   ]
  }
 ],
 "metadata": {
  "kernelspec": {
   "display_name": "base",
   "language": "python",
   "name": "python3"
  },
  "language_info": {
   "codemirror_mode": {
    "name": "ipython",
    "version": 3
   },
   "file_extension": ".py",
   "mimetype": "text/x-python",
   "name": "python",
   "nbconvert_exporter": "python",
   "pygments_lexer": "ipython3",
   "version": "3.9.13"
  },
  "orig_nbformat": 4
 },
 "nbformat": 4,
 "nbformat_minor": 2
}
