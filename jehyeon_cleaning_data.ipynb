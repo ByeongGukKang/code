{
 "cells": [
  {
   "cell_type": "code",
   "execution_count": null,
   "metadata": {},
   "outputs": [],
   "source": [
    "import numpy as np\n",
    "import pandas as pd \n",
    "import matplotlib.pyplot as plt"
   ]
  },
  {
   "attachments": {},
   "cell_type": "markdown",
   "metadata": {},
   "source": [
    "## Do Cleaning"
   ]
  },
  {
   "cell_type": "code",
   "execution_count": null,
   "metadata": {},
   "outputs": [],
   "source": [
    "mktcap = pd.read_pickle(\"clean_mktcap.pickle\")\n",
    "price  = pd.read_pickle(\"clean_price.pickle\")"
   ]
  },
  {
   "attachments": {},
   "cell_type": "markdown",
   "metadata": {},
   "source": [
    "### 1. BTC의 weights 기준으로 클리닝"
   ]
  },
  {
   "cell_type": "code",
   "execution_count": null,
   "metadata": {},
   "outputs": [],
   "source": [
    "# Mkt index에서 BTC의 비율을 시각화 해보자\n",
    "weight = mktcap.apply(lambda x: x / np.nansum(x), axis=1)\n",
    "btc = weight[[\"BTC\"]]\n",
    "btc.plot(figsize=(24,12));"
   ]
  },
  {
   "cell_type": "code",
   "execution_count": null,
   "metadata": {},
   "outputs": [],
   "source": [
    "# BTC의 비중이 갑자기 많이 변하는 날들... 한번 확인해볼 필요가 있다\n",
    "pct = btc.pct_change(fill_method=None)\n",
    "tmp_problem = btc.loc[pct.abs().values > 0.1]\n",
    "tmp_problem"
   ]
  },
  {
   "cell_type": "code",
   "execution_count": null,
   "metadata": {},
   "outputs": [],
   "source": [
    "# 2013-12-26 ~ 2013-12-28 은 여전히 문제가 있다(BTC의 비중이 갑자기 튀는 현상)\n",
    "btc.loc[\"2013-12-26\":\"2013-12-28\"]"
   ]
  },
  {
   "cell_type": "code",
   "execution_count": null,
   "metadata": {},
   "outputs": [],
   "source": [
    "# 13년 12월 26일 -> 2013년 12월 27일 사이에 무슨 코인이 문제인지를 찾아보자\n",
    "sample = weight.loc[\"2013-12-26\":\"2013-12-27\"]\n",
    "pct = sample.pct_change(fill_method=None)\n",
    "pct.iloc[-1].sort_values(ascending=False).dropna()\n",
    "# MEC, QRK, ANC가 이상하다 직접 찾아보자"
   ]
  },
  {
   "cell_type": "code",
   "execution_count": null,
   "metadata": {},
   "outputs": [],
   "source": [
    "# MEC 점검\n",
    "fig, ax = plt.subplots(1,1)\n",
    "price[[\"MEC\"]].loc[\"2013-12-25\":\"2013-12-31\"] \\\n",
    "              .plot(figsize=(24,12), ax=ax, \n",
    "                    sharex=True, alpha=1, c=\"k\")\n",
    "mktcap[[\"MEC\"]].loc[\"2013-12-25\":\"2013-12-31\"] \\\n",
    "               .plot(figsize=(24,12), ax=ax,\n",
    "                     sharex=True, secondary_y = True, alpha=0.5);\n",
    "# price의 상승대비 mktcap이 튀어오르는게 확실히 문제가 있다(2014년)\n",
    "\n",
    "mktcap[[\"MEC\"]].loc[\"2013-12-25\":\"2013-12-31\"]\n",
    "# 12월 27일에 시총이 튄다 -> 이거는 잘못된 데이터인 것 같음, 이후에도 가격은 계속 비슷하기 때문임\n",
    "## Coinmarketcap에서는 트래킹 할 수 없는 코인이라고 뜸, 다른 벤더도 마찬가지\n",
    "\n",
    "### Drop 하는게 맞을듯\n",
    "price.drop(\"MEC\", axis=1, inplace=True)\n",
    "mktcap.drop(\"MEC\", axis=1, inplace=True)"
   ]
  },
  {
   "cell_type": "code",
   "execution_count": null,
   "metadata": {},
   "outputs": [],
   "source": [
    "# QRK 점검\n",
    "fig, ax = plt.subplots(1,1)\n",
    "price[[\"QRK\"]].loc[\"2013-12-25\":\"2013-12-31\"] \\\n",
    "              .plot(figsize=(8,4), ax=ax, \n",
    "                    sharex=True, alpha=1, c=\"k\")\n",
    "mktcap[[\"QRK\"]].loc[\"2013-12-25\":\"2013-12-31\"] \\\n",
    "               .plot(figsize=(8,4), ax=ax,\n",
    "                     sharex=True, secondary_y = True, alpha=0.5);\n",
    "\n",
    "mktcap[[\"QRK\"]].loc[\"2013-12-25\":\"2013-12-31\"]\n",
    "# 27일 날 갑자기 cap이 튄다 -> Coinmarketcap 확인결과 잘못된 데이터가 맞다\n",
    "## price로 smoothing 해줘야 할듯"
   ]
  },
  {
   "cell_type": "code",
   "execution_count": null,
   "metadata": {},
   "outputs": [],
   "source": [
    "# QRK 스무딩\n",
    "price_0 = price[[\"QRK\"]].loc[\"2013-12-26\"].values[0]\n",
    "price_1 = price[[\"QRK\"]].loc[\"2013-12-27\"].values[0]\n",
    "print(\"가격: {} -> {}\".format(price_0, price_1))\n",
    "\n",
    "mktcap_0 = mktcap[[\"QRK\"]].loc[\"2013-12-26\"].values[0]\n",
    "mktcap_1 = mktcap[[\"QRK\"]].loc[\"2013-12-27\"].values[0]\n",
    "print(\"시총: {} -> {}\".format(mktcap_0, mktcap_1))\n",
    "\n",
    "pct = (price_1 - price_0) / price_0\n",
    "new_mktcap = mktcap_0 * (1+pct)\n",
    "print(\"새로운 시총:\" , new_mktcap)\n",
    "mktcap[\"QRK\"].loc[\"2013-12-27\"] = new_mktcap"
   ]
  },
  {
   "cell_type": "code",
   "execution_count": null,
   "metadata": {},
   "outputs": [],
   "source": [
    "# ANC 점검\n",
    "fig, ax = plt.subplots(1,1)\n",
    "price[[\"ANC\"]].loc[\"2013-12-25\":\"2013-12-31\"] \\\n",
    "              .plot(figsize=(8,4), ax=ax, \n",
    "                    sharex=True, alpha=1, c=\"k\")\n",
    "mktcap[[\"ANC\"]].loc[\"2013-12-25\":\"2013-12-31\"] \\\n",
    "               .plot(figsize=(8,4), ax=ax,\n",
    "                     sharex=True, secondary_y = True, alpha=0.5);\n",
    "\n",
    "mktcap[[\"ANC\"]].loc[\"2013-12-25\":\"2013-12-31\"]\n",
    "\n",
    "# 똑같이 price로 smoothing 하면 됨"
   ]
  },
  {
   "cell_type": "code",
   "execution_count": null,
   "metadata": {},
   "outputs": [],
   "source": [
    "# ANC 스무딩\n",
    "price_0 = price[[\"ANC\"]].loc[\"2013-12-26\"].values[0]\n",
    "price_1 = price[[\"ANC\"]].loc[\"2013-12-27\"].values[0]\n",
    "print(\"가격: {} -> {}\".format(price_0, price_1))\n",
    "\n",
    "mktcap_0 = mktcap[[\"ANC\"]].loc[\"2013-12-26\"].values[0]\n",
    "mktcap_1 = mktcap[[\"ANC\"]].loc[\"2013-12-27\"].values[0]\n",
    "print(\"시총: {} -> {}\".format(mktcap_0, mktcap_1))\n",
    "\n",
    "pct = (price_1 - price_0) / price_0\n",
    "new_mktcap = mktcap_0 * (1+pct)\n",
    "mktcap[\"ANC\"].loc[\"2013-12-27\"] = new_mktcap"
   ]
  },
  {
   "attachments": {},
   "cell_type": "markdown",
   "metadata": {},
   "source": [
    "### 2. 중간중간 발견한 이상한 코인들 점검"
   ]
  },
  {
   "cell_type": "code",
   "execution_count": null,
   "metadata": {},
   "outputs": [],
   "source": [
    "# NXT 점검\n",
    "fig, ax = plt.subplots(1,1)\n",
    "price[[\"NXT\"]].loc[\"2013-12\":\"2014-01\"] \\\n",
    "              .plot(figsize=(8,4), ax=ax, sharex=True,\n",
    "                    alpha=1, c=\"k\")\n",
    "              \n",
    "mktcap[[\"NXT\"]].loc[\"2013-12\":\"2014-01\"] \\\n",
    "               .plot(figsize=(8,4), ax=ax, sharex=True, \n",
    "                     secondary_y = True, alpha=0.5);\n",
    "mktcap[[\"NXT\"]].loc[\"2013-12-25\":\"2013-12-31\"]\n",
    "# coinmarketcap과 비교결과 잘못된 데이터가 맞다는 것을 확인\n",
    "## price를 통해 smothing 해주도록 하겠음"
   ]
  },
  {
   "cell_type": "code",
   "execution_count": null,
   "metadata": {},
   "outputs": [],
   "source": [
    "# NXT 스무딩\n",
    "price_0 = price[[\"NXT\"]].loc[\"2013-12-27\"].values[0]\n",
    "price_1 = price[[\"NXT\"]].loc[\"2013-12-28\"].values[0]\n",
    "print(\"가격: {} -> {}\".format(price_0, price_1))\n",
    "\n",
    "mktcap_0 = mktcap[[\"NXT\"]].loc[\"2013-12-27\"].values[0]\n",
    "mktcap_1 = mktcap[[\"NXT\"]].loc[\"2013-12-28\"].values[0]\n",
    "print(\"시총: {} -> {}\".format(mktcap_0, mktcap_1))\n",
    "\n",
    "pct = (price_1 - price_0) / price_0\n",
    "new_mktcap = mktcap_0 * (1+pct)\n",
    "mktcap[\"NXT\"].loc[\"2013-12-28\"] = new_mktcap"
   ]
  },
  {
   "cell_type": "code",
   "execution_count": null,
   "metadata": {},
   "outputs": [],
   "source": [
    "# RISE2\n",
    "fig, ax = plt.subplots(1,1)\n",
    "price[[\"RISE2\"]].plot(figsize=(24,12), ax=ax, sharex=True,\n",
    "                    alpha=1, c='k')\n",
    "mktcap[[\"RISE2\"]].plot(figsize=(24,12), ax=ax, sharex=True,\n",
    "                     secondary_y = True,\n",
    "                     alpha=0.5);\n",
    "\n",
    "# 가격이 e-08에서 하루만에 e-04가 됨\n",
    "price[[\"RISE2\"]].loc[~price[\"RISE2\"].isna()].loc[\"2021-11-28\":\"2021-12-05\"]"
   ]
  },
  {
   "cell_type": "code",
   "execution_count": null,
   "metadata": {},
   "outputs": [],
   "source": [
    "# RISE2는 Coinmarketcap에서도 22년 1월 24일부터 데이터가 있어서 우리도 그 sample period기간만 사용하면 될듯!!\n",
    "price[\"RISE2\"].loc[:\"2022-01-23\"] = np.nan\n",
    "mktcap[\"RISE2\"].loc[:\"2022-01-23\"] = np.nan\n",
    "\n",
    "# RISE2 -> 잘 제거되었는지 확인\n",
    "fig, ax = plt.subplots(1,1)\n",
    "price[[\"RISE2\"]].plot(figsize=(24,12), ax=ax, sharex=True,\n",
    "                    alpha=1, c='k')\n",
    "mktcap[[\"RISE2\"]].plot(figsize=(24,12), ax=ax, sharex=True,\n",
    "                     secondary_y = True,\n",
    "                     alpha=0.5);"
   ]
  },
  {
   "cell_type": "code",
   "execution_count": null,
   "metadata": {},
   "outputs": [],
   "source": [
    "mktcap_pct = mktcap.pct_change(fill_method=None)\n",
    "price_pct = price.pct_change(fill_method=None)"
   ]
  },
  {
   "cell_type": "code",
   "execution_count": null,
   "metadata": {},
   "outputs": [],
   "source": [
    "# cap의 pct_change가 daily 10_000%를 넘어가는 코인이 있다?!!\n",
    "print(\"문제있는 데이터의 수:\", (~mktcap_pct[np.abs(mktcap_pct) > 10].isna()).sum().sum())\n",
    "\n",
    "# 무슨 코인들이 해당하는가\n",
    "coin = (~mktcap_pct[mktcap_pct > 10].isna()).sum()\n",
    "coin_lst = coin.loc[coin >=1].index.tolist()"
   ]
  },
  {
   "cell_type": "code",
   "execution_count": null,
   "metadata": {},
   "outputs": [],
   "source": [
    "# Plot으로 확인해보자\n",
    "for ticker in coin_lst:\n",
    "    fig, ax = plt.subplots(1,1)\n",
    "    price[ticker].plot(figsize=(24,12), ax=ax, sharex=True,\n",
    "                        alpha=1, c=\"k\")\n",
    "    mktcap[ticker].plot(figsize=(24,12), ax=ax, sharex=True, \n",
    "                         secondary_y = True, alpha=0.5, c='r')\n",
    "    plt.legend([\"price\", \"mktcap\"])\n",
    "    plt.title(ticker);"
   ]
  },
  {
   "cell_type": "code",
   "execution_count": null,
   "metadata": {},
   "outputs": [],
   "source": [
    "# 확인한놈들 몇개는 그냥 드랍시키자\n",
    "\n",
    "price.drop([\"AUCTION\", \"BCA\", \"BONE2\", \"BONO\", \"BTCST\", \n",
    "            \"CGT2\", \"CRD\", \"CRED\", \"CVCOIN\", \"DG\", \"IFC\", \n",
    "            \"KARMA2\", \"LDOGE\", \"MOON\", \"OUSD\", \"REV\"], axis=1, \n",
    "           inplace=True)\n",
    "mktcap.drop([\"AUCTION\", \"BCA\", \"BONE2\", \"BONO\", \"BTCST\", \n",
    "            \"CGT2\", \"CRD\", \"CRED\", \"CVCOIN\", \"DG\", \"IFC\", \n",
    "            \"KARMA2\", \"LDOGE\", \"MOON\", \"OUSD\", \"REV\"], axis=1, \n",
    "           inplace=True)"
   ]
  },
  {
   "cell_type": "code",
   "execution_count": null,
   "metadata": {},
   "outputs": [],
   "source": [
    "# 저장\n",
    "mktcap.to_pickle(\"jehyeon_cleaning_mktcap.pickle\")\n",
    "price.to_pickle(\"jehyeon_cleaning_price.pickle\")"
   ]
  },
  {
   "attachments": {},
   "cell_type": "markdown",
   "metadata": {},
   "source": [
    "## Check after cleaning"
   ]
  },
  {
   "cell_type": "code",
   "execution_count": null,
   "metadata": {},
   "outputs": [],
   "source": [
    "import numpy as np\n",
    "import pandas as pd"
   ]
  },
  {
   "cell_type": "code",
   "execution_count": null,
   "metadata": {},
   "outputs": [],
   "source": [
    "price = pd.read_pickle(\"jehyeon_cleaning_price.pickle\")\n",
    "mktcap = pd.read_pickle(\"jehyeon_cleaning_mktcap.pickle\")"
   ]
  },
  {
   "cell_type": "code",
   "execution_count": null,
   "metadata": {},
   "outputs": [],
   "source": [
    "weight = mktcap.apply(lambda x: x / np.nansum(x), axis=1)\n",
    "btc = weight[[\"BTC\"]]\n",
    "btc.plot(figsize=(24,12));"
   ]
  }
 ],
 "metadata": {
  "kernelspec": {
   "display_name": "base",
   "language": "python",
   "name": "python3"
  },
  "language_info": {
   "codemirror_mode": {
    "name": "ipython",
    "version": 3
   },
   "file_extension": ".py",
   "mimetype": "text/x-python",
   "name": "python",
   "nbconvert_exporter": "python",
   "pygments_lexer": "ipython3",
   "version": "3.9.13"
  },
  "orig_nbformat": 4
 },
 "nbformat": 4,
 "nbformat_minor": 2
}
