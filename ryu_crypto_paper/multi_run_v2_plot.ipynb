{
 "cells": [
  {
   "cell_type": "code",
   "execution_count": null,
   "metadata": {},
   "outputs": [],
   "source": [
    "import numpy as np \n",
    "import pandas as pd \n",
    "import matplotlib.pyplot as plt\n",
    "\n",
    "from tools_ryu import mytool\n",
    "from multi_run_v2.initialize_v2 import data_pp, make_market_index\n",
    "from multi_run_v2.momentum_strategy_v3 import *"
   ]
  },
  {
   "cell_type": "code",
   "execution_count": null,
   "metadata": {},
   "outputs": [],
   "source": [
    "# Binance Data는 코드 수정해야함\n",
    "cmktcap = pd.read_pickle(\"Data/cmktcap_data_final.pickle\")\n",
    "#cmktcap_reduced = pd.read_pickle(\"Data/cmktcap_data_reduced.pickle\")\n",
    "#binance = pd.read_pickle(\"Data/binance_data_pp.pickle\")"
   ]
  },
  {
   "cell_type": "code",
   "execution_count": null,
   "metadata": {},
   "outputs": [],
   "source": [
    "#값들 설정          mktcap, volume\n",
    "group_value = {\"M0\":[1_000_000, None],\n",
    "               \"M1\":[1_000_000,1_000_000]}\n",
    "               #\"M2\":[1_000_000,5_000_000]}"
   ]
  },
  {
   "cell_type": "code",
   "execution_count": null,
   "metadata": {},
   "outputs": [],
   "source": [
    "# Initialize the Data\n",
    "cmkt_data = data_pp(cmktcap, vender=\"coinmarketcap\")\n",
    "#cmktre_data = data_pp(cmktcap_reduced, vender=\"coinmarketcap\")\n",
    "#binance_data = data_pp(binance, vender=\"binance\")"
   ]
  },
  {
   "cell_type": "code",
   "execution_count": null,
   "metadata": {},
   "outputs": [],
   "source": [
    "# Ray Data 생성\n",
    "ray_price = ray.put(cmkt_data[\"price\"])\n",
    "ray_mktcap = ray.put(cmkt_data[\"mktcap\"])\n",
    "ray_vol = ray.put(cmkt_data[\"vol\"])\n",
    "\n",
    "# Binance Data 생성\n",
    "#ray_price_b = ray.put(binance_data[\"price\"])\n",
    "#ray_mktcap_b = ray.put(binance_data[\"mktcap\"])\n",
    "#ray_vol_b = ray.put(binance_data[\"vol\"])"
   ]
  },
  {
   "cell_type": "code",
   "execution_count": null,
   "metadata": {},
   "outputs": [],
   "source": [
    "# Terra Luna 제거\n",
    "\n",
    "#price_pp = cmkt_data[\"price\"].drop(\"4172\", axis=1)\n",
    "#mktcap_pp = cmkt_data[\"mktcap\"].drop(\"4172\", axis=1)\n",
    "#vol_pp = cmkt_data[\"vol\"].drop(\"4172\", axis=1)"
   ]
  },
  {
   "cell_type": "code",
   "execution_count": null,
   "metadata": {},
   "outputs": [],
   "source": [
    "# Ray Data 생성\n",
    "#ray_price = ray.put(price_pp)\n",
    "#ray_mktcap = ray.put(mktcap_pp)\n",
    "#ray_vol = ray.put(vol_pp)"
   ]
  },
  {
   "attachments": {},
   "cell_type": "markdown",
   "metadata": {},
   "source": [
    "# 1. Market Index 생성"
   ]
  },
  {
   "cell_type": "code",
   "execution_count": null,
   "metadata": {},
   "outputs": [],
   "source": [
    "# 코인 마켓 인덱스 생성  리턴값 -> mkt_index, time_series_coin_num\n",
    "market_index_cmkt = {}\n",
    "\n",
    "mkt_future = [make_market_index.remote(price_df=ray_price,\n",
    "                                       mktcap_df=ray_mktcap,\n",
    "                                       vol_df=ray_vol,\n",
    "                                       mktcap_thresh=value_lst[0],\n",
    "                                       vol_thresh=value_lst[1]) \n",
    "              for key, value_lst in group_value.items()]\n",
    "\n",
    "mkt_result = ray.get(mkt_future)"
   ]
  },
  {
   "cell_type": "code",
   "execution_count": null,
   "metadata": {},
   "outputs": [],
   "source": [
    "mkt_result_dict = {\"M0\":mkt_result[0],\n",
    "                   \"M1\":mkt_result[1],}\n",
    "                   #\"M2\":mkt_result[2],}\n",
    "                   #\"M4\":mkt_result[3]}"
   ]
  },
  {
   "cell_type": "code",
   "execution_count": null,
   "metadata": {},
   "outputs": [],
   "source": [
    "mytool.draw_return_result(mkt_result_dict, \n",
    "                          title=\"\",\n",
    "                          log=False)"
   ]
  },
  {
   "cell_type": "code",
   "execution_count": null,
   "metadata": {},
   "outputs": [],
   "source": [
    "mkt_result_dict[\"M2\"]"
   ]
  },
  {
   "cell_type": "code",
   "execution_count": null,
   "metadata": {},
   "outputs": [],
   "source": [
    "mytool.print_statistics(mkt_result_dict)"
   ]
  },
  {
   "attachments": {},
   "cell_type": "markdown",
   "metadata": {},
   "source": [
    "# 2. 모멘텀 전략 (Value Weighted)"
   ]
  },
  {
   "cell_type": "code",
   "execution_count": null,
   "metadata": {},
   "outputs": [],
   "source": [
    "days_lst = [\"MON\",\"TUE\",\"WED\",\"THU\",\"FRI\",\"SAT\",\"SUN\"]"
   ]
  },
  {
   "cell_type": "code",
   "execution_count": null,
   "metadata": {},
   "outputs": [],
   "source": [
    "momentum_cmkt = {}\n",
    "\n",
    "momentum_future = [weekly_momentum_value_weighted.remote(price_df=ray_price,\n",
    "                                                         mktcap_df=ray_mktcap,\n",
    "                                                         vol_df=ray_vol,\n",
    "                                                         n_group=num,\n",
    "                                                         day_of_week=\"SUN\",\n",
    "                                                         number_of_coin_group=20,\n",
    "                                                         mktcap_thresh=1_000_000,\n",
    "                                                         vol_thresh=1_000_000,\n",
    "                                                         fee_rate=0.0015,\n",
    "                                                         freq=\"Daily\") \n",
    "                   \n",
    "              for num in [2,3,4,5]]\n",
    "\n",
    "momentum_result = ray.get(momentum_future)"
   ]
  },
  {
   "cell_type": "code",
   "execution_count": null,
   "metadata": {},
   "outputs": [],
   "source": [
    "momentum_result_dict = {\"2\":momentum_result[0],\n",
    "                        \"3\":momentum_result[1],\n",
    "                        \"4\":momentum_result[2],\n",
    "                        \"5\":momentum_result[3]}"
   ]
  },
  {
   "cell_type": "code",
   "execution_count": null,
   "metadata": {},
   "outputs": [],
   "source": [
    "mytool.draw_return_result(momentum_result_dict[\"5\"], \n",
    "                          title=\"\",\n",
    "                          log=True)"
   ]
  },
  {
   "cell_type": "code",
   "execution_count": null,
   "metadata": {},
   "outputs": [],
   "source": [
    "for i in [2,3,4,5]:\n",
    "    print(i)\n",
    "    print(mytool.print_statistics(momentum_result_dict[f\"{i}\"]))"
   ]
  },
  {
   "cell_type": "code",
   "execution_count": null,
   "metadata": {},
   "outputs": [],
   "source": [
    "what = \"Long_Q5\"\n",
    "\n",
    "a = {\"M0\":momentum_result_dict[\"M0\"][what].loc[\"2017-12-31\":],\n",
    "\"M1\":momentum_result_dict[\"M1\"][what].loc[\"2017-12-31\":],\n",
    "\"M2\":momentum_result_dict[\"M2\"][what].loc[\"2017-12-31\":]}"
   ]
  },
  {
   "cell_type": "code",
   "execution_count": null,
   "metadata": {},
   "outputs": [],
   "source": [
    "mytool.print_statistics(a)"
   ]
  },
  {
   "cell_type": "code",
   "execution_count": null,
   "metadata": {},
   "outputs": [],
   "source": [
    "mytool.draw_return_result(a, title=f\"{what} Result 2018~\", log=True,\n",
    "                          one_plot=True)"
   ]
  },
  {
   "attachments": {},
   "cell_type": "markdown",
   "metadata": {},
   "source": [
    "Binance"
   ]
  },
  {
   "cell_type": "code",
   "execution_count": null,
   "metadata": {},
   "outputs": [],
   "source": [
    "# Binance Data\n",
    "momentum_binance = {}\n",
    "momentum_future_binance = [weekly_momentum_value_weighted.remote(price_df=ray_price_b,\n",
    "                                                                 mktcap_df=ray_mktcap_b,\n",
    "                                                                 vol_df=ray_vol_b,\n",
    "                                                                 n_group=4,\n",
    "                                                                 day_of_week=\"SUN\",\n",
    "                                                                 number_of_coin_group=10,\n",
    "                                                                 mktcap_thresh=value_lst[0],\n",
    "                                                                 vol_thresh=value_lst[1],\n",
    "                                                                 fee_rate=0.0015) \n",
    "                          for key, value_lst in group_value.items()]\n",
    "\n",
    "momentum_result_b = ray.get(momentum_future_binance)"
   ]
  },
  {
   "cell_type": "code",
   "execution_count": null,
   "metadata": {},
   "outputs": [],
   "source": [
    "momentum_result_dict_b = {\"M0\":momentum_result_b[0],\n",
    "                        \"M1\":momentum_result_b[1],\n",
    "                        \"M2\":momentum_result_b[2]}"
   ]
  },
  {
   "cell_type": "code",
   "execution_count": null,
   "metadata": {},
   "outputs": [],
   "source": [
    "mytool.draw_return_result(momentum_result_dict_b[\"M1\"], \n",
    "                          title=\"\",\n",
    "                          log=False)"
   ]
  },
  {
   "attachments": {},
   "cell_type": "markdown",
   "metadata": {},
   "source": [
    "# 3. Value Weighted, Marketcap Capped "
   ]
  },
  {
   "cell_type": "code",
   "execution_count": null,
   "metadata": {},
   "outputs": [],
   "source": [
    "momentum_capped_future = [weekly_momentum_value_weighted_capped.remote(price_df=ray_price,\n",
    "                                                         mktcap_df=ray_mktcap,\n",
    "                                                         vol_df=ray_vol,\n",
    "                                                         n_group=num,\n",
    "                                                         day_of_week=\"SUN\",\n",
    "                                                         number_of_coin_group=20,\n",
    "                                                         mktcap_thresh=1_000_000,\n",
    "                                                         vol_thresh=1_000_000,\n",
    "                                                         fee_rate=0.0015,\n",
    "                                                         freq=\"Daily\",\n",
    "                                                         num_cap=20) \n",
    "                   \n",
    "              for num in [2,3,4,5]]\n",
    "\n",
    "momentum_capped_result = ray.get(momentum_capped_future)"
   ]
  },
  {
   "cell_type": "code",
   "execution_count": null,
   "metadata": {},
   "outputs": [],
   "source": [
    "momentum_capped_result_dict = {\"2\":momentum_capped_result[0],\n",
    "                               \"3\":momentum_capped_result[1],\n",
    "                               \"4\":momentum_capped_result[2],\n",
    "                               \"5\":momentum_capped_result[3],}\n",
    "                               #\"M4\":momentum_capped_result[3]}"
   ]
  },
  {
   "cell_type": "code",
   "execution_count": null,
   "metadata": {},
   "outputs": [],
   "source": [
    "mytool.draw_return_result(momentum_capped_result_dict[\"M2\"], \n",
    "                          title=\"\",\n",
    "                          log=True)"
   ]
  },
  {
   "cell_type": "code",
   "execution_count": null,
   "metadata": {},
   "outputs": [],
   "source": [
    "for i in [2,3,4,5]:\n",
    "    print(i)\n",
    "    print(mytool.print_statistics(momentum_capped_result_dict[f\"{i}\"]))"
   ]
  },
  {
   "cell_type": "code",
   "execution_count": null,
   "metadata": {},
   "outputs": [],
   "source": [
    "b = {\"M0\":momentum_capped_result_dict[\"M0\"][\"Long-Short\"].loc[\"2018\":],\n",
    "\"M1\":momentum_capped_result_dict[\"M1\"][\"Long-Short\"].loc[\"2018\":],\n",
    "\"M2\":momentum_capped_result_dict[\"M2\"][\"Long-Short\"].loc[\"2018\":]}"
   ]
  },
  {
   "cell_type": "code",
   "execution_count": null,
   "metadata": {},
   "outputs": [],
   "source": [
    "mytool.draw_return_result(b,\n",
    "                          title=\"Long-Short After 2018~\",\n",
    "                          log=False,\n",
    "                          one_plot=True)"
   ]
  },
  {
   "cell_type": "code",
   "execution_count": null,
   "metadata": {},
   "outputs": [],
   "source": [
    "mytool.print_statistics(b)"
   ]
  },
  {
   "attachments": {},
   "cell_type": "markdown",
   "metadata": {},
   "source": [
    "# 4. 모멘텀 전략 (Momentum Weighted) "
   ]
  },
  {
   "cell_type": "code",
   "execution_count": null,
   "metadata": {},
   "outputs": [],
   "source": [
    "momentum_weighted_cmkt = {}\n",
    "\n",
    "momentum_weighted_future = [weekly_momentum_momentum_weighted.remote(price_df=ray_price,\n",
    "                                                                   mktcap_df=ray_mktcap,\n",
    "                                                                   vol_df=ray_vol,\n",
    "                                                                   n_group=5,\n",
    "                                                                   day_of_week=\"SUN\",\n",
    "                                                                   number_of_coin_group=20,\n",
    "                                                                   mktcap_thresh=value_lst[0],\n",
    "                                                                   vol_thresh=value_lst[1],\n",
    "                                                                   fee_rate=0.0015) \n",
    "              for key, value_lst in group_value.items()]\n",
    "\n",
    "momentum_weighted_result = ray.get(momentum_weighted_future)"
   ]
  },
  {
   "cell_type": "code",
   "execution_count": null,
   "metadata": {},
   "outputs": [],
   "source": [
    "momentum_weighted_result_dict = {\"M1\":momentum_weighted_result[0],\n",
    "                                 \"M2\":momentum_weighted_result[1],\n",
    "                                 \"M3\":momentum_weighted_result[2],\n",
    "                                 \"M4\":momentum_weighted_result[3]}"
   ]
  },
  {
   "cell_type": "code",
   "execution_count": null,
   "metadata": {},
   "outputs": [],
   "source": [
    "mytool.draw_return_result(momentum_weighted_result_dict[\"M4\"], \n",
    "                          title=\"\",\n",
    "                          log=False);"
   ]
  },
  {
   "cell_type": "code",
   "execution_count": null,
   "metadata": {},
   "outputs": [],
   "source": [
    "mytool.print_statistics(momentum_weighted_result_dict[\"M3\"])"
   ]
  },
  {
   "attachments": {},
   "cell_type": "markdown",
   "metadata": {},
   "source": [
    "# 5. 모멘텀 전략 Weight Capped (Momentum Weighted) "
   ]
  },
  {
   "cell_type": "code",
   "execution_count": null,
   "metadata": {},
   "outputs": [],
   "source": [
    "momentum_weighted_capped_cmkt = {}\n",
    "\n",
    "momentum_weighted_capped_future = [weekly_momentum_momentum_weighted_capped.remote(price_df=ray_price,\n",
    "                                                                                   mktcap_df=ray_mktcap,\n",
    "                                                                                   vol_df=ray_vol,\n",
    "                                                                                   n_group=5,\n",
    "                                                                                   day_of_week=\"SUN\",\n",
    "                                                                                   number_of_coin_group=20,\n",
    "                                                                                   mktcap_thresh=value_lst[0],\n",
    "                                                                                   vol_thresh=value_lst[1],\n",
    "                                                                                   fee_rate=0.0015,\n",
    "                                                                                   num_cap=5) \n",
    "              for key, value_lst in group_value.items()]\n",
    "\n",
    "momentum_weighted_capped_result = ray.get(momentum_weighted_capped_future)"
   ]
  },
  {
   "cell_type": "code",
   "execution_count": null,
   "metadata": {},
   "outputs": [],
   "source": [
    "momentum_weighted_capped_result_dict = {\"M1\":momentum_weighted_capped_result[0],\n",
    "                                        \"M2\":momentum_weighted_capped_result[1],\n",
    "                                        \"M3\":momentum_weighted_capped_result[2],\n",
    "                                        \"M4\":momentum_weighted_capped_result[3]}"
   ]
  },
  {
   "cell_type": "code",
   "execution_count": null,
   "metadata": {},
   "outputs": [],
   "source": [
    "mytool.draw_return_result(momentum_weighted_capped_result_dict[\"M4\"], \n",
    "                          title=\"\",\n",
    "                          log=False);"
   ]
  },
  {
   "cell_type": "code",
   "execution_count": null,
   "metadata": {},
   "outputs": [],
   "source": [
    "mytool.print_statistics(momentum_weighted_capped_result_dict[\"M4\"])"
   ]
  }
 ],
 "metadata": {
  "kernelspec": {
   "display_name": "base",
   "language": "python",
   "name": "python3"
  },
  "language_info": {
   "codemirror_mode": {
    "name": "ipython",
    "version": 3
   },
   "file_extension": ".py",
   "mimetype": "text/x-python",
   "name": "python",
   "nbconvert_exporter": "python",
   "pygments_lexer": "ipython3",
   "version": "3.9.13"
  },
  "orig_nbformat": 4
 },
 "nbformat": 4,
 "nbformat_minor": 2
}
