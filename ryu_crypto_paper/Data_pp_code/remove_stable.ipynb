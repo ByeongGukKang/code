{
 "cells": [
  {
   "cell_type": "code",
   "execution_count": 2,
   "metadata": {},
   "outputs": [],
   "source": [
    "import numpy as np \n",
    "import pandas as pd \n",
    "import matplotlib.pyplot as plt"
   ]
  },
  {
   "cell_type": "code",
   "execution_count": 3,
   "metadata": {},
   "outputs": [],
   "source": [
    "# Data Loading and pivot\n",
    "data = pd.read_pickle(\"Data\\cmktcap_data_raw.pickle\")\n",
    "\n",
    "price = pd.pivot_table(data=data, values=\"close\",\n",
    "                       index=data.index,columns=\"coin_id\")"
   ]
  },
  {
   "cell_type": "code",
   "execution_count": 4,
   "metadata": {},
   "outputs": [
    {
     "data": {
      "text/html": [
       "<div>\n",
       "<style scoped>\n",
       "    .dataframe tbody tr th:only-of-type {\n",
       "        vertical-align: middle;\n",
       "    }\n",
       "\n",
       "    .dataframe tbody tr th {\n",
       "        vertical-align: top;\n",
       "    }\n",
       "\n",
       "    .dataframe thead th {\n",
       "        text-align: right;\n",
       "    }\n",
       "</style>\n",
       "<table border=\"1\" class=\"dataframe\">\n",
       "  <thead>\n",
       "    <tr style=\"text-align: right;\">\n",
       "      <th></th>\n",
       "      <th>id</th>\n",
       "      <th>symbol</th>\n",
       "    </tr>\n",
       "  </thead>\n",
       "  <tbody>\n",
       "    <tr>\n",
       "      <th>0</th>\n",
       "      <td>1</td>\n",
       "      <td>BTC</td>\n",
       "    </tr>\n",
       "    <tr>\n",
       "      <th>1</th>\n",
       "      <td>2</td>\n",
       "      <td>LTC</td>\n",
       "    </tr>\n",
       "    <tr>\n",
       "      <th>2</th>\n",
       "      <td>3</td>\n",
       "      <td>NMC</td>\n",
       "    </tr>\n",
       "    <tr>\n",
       "      <th>3</th>\n",
       "      <td>4</td>\n",
       "      <td>TRC</td>\n",
       "    </tr>\n",
       "    <tr>\n",
       "      <th>4</th>\n",
       "      <td>5</td>\n",
       "      <td>PPC</td>\n",
       "    </tr>\n",
       "  </tbody>\n",
       "</table>\n",
       "</div>"
      ],
      "text/plain": [
       "  id symbol\n",
       "0  1    BTC\n",
       "1  2    LTC\n",
       "2  3    NMC\n",
       "3  4    TRC\n",
       "4  5    PPC"
      ]
     },
     "execution_count": 4,
     "metadata": {},
     "output_type": "execute_result"
    }
   ],
   "source": [
    "# Load file that mapping from coin_id to symbol\n",
    "coin_list = pd.read_csv(\"Data/coin_list_coinmarketcap.csv\", index_col=0)[[\"id\",\"symbol\"]]\n",
    "coin_list.id = coin_list.id.astype(\"str\")\n",
    "coin_list.head()"
   ]
  },
  {
   "cell_type": "code",
   "execution_count": 5,
   "metadata": {},
   "outputs": [
    {
     "data": {
      "text/plain": [
       "137"
      ]
     },
     "execution_count": 5,
     "metadata": {},
     "output_type": "execute_result"
    }
   ],
   "source": [
    "stable_coin = [\"USDT\",\"USDC\",\"BUSD\",\"DAI\",\"TUSD\",\n",
    "               \"FRAX\",\"USDP\",\"USDD\",\"GUSD\",\"FEI\",\"USDJ\",\"LUSD\",\n",
    "               \"USTC\",\"EURS\",\"TRIBE\",\"vUSDC\",\"USDX\",\n",
    "               \"vBUSD\",\"XSGD\",\"VAI\",\"SUSD\",\"CUSD\",\"SBD\",\n",
    "               \"vUSDT\",\"EUROC\",\"OUSD\",\"USDK\",\"RSV\",\"KRT\",\n",
    "               \"GYEN\",\"CEUR\",\"HUSD\",\"BIDR\",\"IDRT\",\"vDAI\",\n",
    "               \"DGD\",\"BITCNY\",\"XCHF\",\"DGX\",\"EOSDT\",\"BITUSD\",\n",
    "               \"ZUSD\",\"ESD\",\"USDS\",\"BAC\",\"ALUSD\",\"YUSD\",\n",
    "               \"USX\",\"MIM\",\"DOLA\",\"MIMATIC\",\"EURT\",\"MUSD\",\n",
    "               \"USDs\",\"AGEUR\",\"mCUSD\",\"TOR\",\"TRYB\",\"mCEUR\",\n",
    "               \"XIDR\",\"1GOLD\",\"USDS\",\"MXNT\",\"XSTUSD\",\"USDEX\",\n",
    "               \"CUSD\",\"MTR\",\"BRCP\",\"CUSDT\",\"SEUR\",\"xDAI\",\n",
    "               \"DUSD\",\"USDP\",\"USDH\",\"USDZ\",\"DJED\",\"JPYC\",\n",
    "               \"PAR\",\"WANUSDT\",\"ONC\",\"FUSD\",\"MUSD\",\"ONEICHI\",\n",
    "               \"FUSD\",\"CADC\",\"XUSD\",\"DSD\",\"JPYC\",\"USDB\",\"XUSD\",\n",
    "               \"MONEY\",\"USDR\",\"COFFIN\",\"IRON\",\"KBC\",\"DPT\",\"nUSD\",\n",
    "               \"STATIK\",\"USN\",\"USNBT\",\"BITGOLD\",\"BITEUR\",\"HGT\",\n",
    "               \"QC\",\"ITL\",\"CONST\",\"USDQ\",\"XEUR\",\"BGBP\",\"EBASE\",\n",
    "               \"BKRW\",\"USDEX\",\"USDL\",\"UETH\",\"BVND\",\"BSD\",\"SAC\",\n",
    "               \"USDEX\",\"ZUSD\",\"USDFL\",\"MDS\",\"MDO\",\"FLOAT\",\"fUSDT\",\n",
    "               \"FLUSD\",\"ARTH\",\"USDAP\",\"BEAN\",\"COUSD\",\"DUSD\",\"AUSD\",\n",
    "               \"fUSDT\",\"H2O\",\"IUSDS\",\"USDI\",\"GBPT\",\"EUROS\"]\n",
    "len(stable_coin)"
   ]
  },
  {
   "cell_type": "code",
   "execution_count": 7,
   "metadata": {},
   "outputs": [],
   "source": [
    "catch_stable = []\n",
    "\n",
    "for columns in price.columns:\n",
    "    symbol = coin_list.loc[coin_list.id == columns, \"symbol\"].values[0]\n",
    "    if symbol in stable_coin: \n",
    "        catch_stable.append(columns) # If symbol is match, than save id"
   ]
  },
  {
   "cell_type": "code",
   "execution_count": 8,
   "metadata": {},
   "outputs": [
    {
     "data": {
      "text/plain": [
       "129"
      ]
     },
     "execution_count": 8,
     "metadata": {},
     "output_type": "execute_result"
    }
   ],
   "source": [
    "len(catch_stable)"
   ]
  },
  {
   "cell_type": "code",
   "execution_count": 10,
   "metadata": {},
   "outputs": [],
   "source": [
    "# Drop Stable coin\n",
    "drop_stable = data.loc[(~data.coin_id.apply(lambda x: x in catch_stable).values)]"
   ]
  },
  {
   "cell_type": "code",
   "execution_count": 11,
   "metadata": {},
   "outputs": [],
   "source": [
    "# Save the Data\n",
    "drop_stable.to_pickle(\"Data/cdata_drop_stable.pickle\")"
   ]
  }
 ],
 "metadata": {
  "kernelspec": {
   "display_name": "base",
   "language": "python",
   "name": "python3"
  },
  "language_info": {
   "codemirror_mode": {
    "name": "ipython",
    "version": 3
   },
   "file_extension": ".py",
   "mimetype": "text/x-python",
   "name": "python",
   "nbconvert_exporter": "python",
   "pygments_lexer": "ipython3",
   "version": "3.9.13"
  },
  "orig_nbformat": 4
 },
 "nbformat": 4,
 "nbformat_minor": 2
}
