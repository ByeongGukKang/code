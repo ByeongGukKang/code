{
 "cells": [
  {
   "attachments": {},
   "cell_type": "markdown",
   "metadata": {},
   "source": [
    "# 구글드라이브에서 데이터 받기"
   ]
  },
  {
   "cell_type": "code",
   "execution_count": null,
   "metadata": {},
   "outputs": [],
   "source": [
    "import os\n",
    "import numpy as np\n",
    "import pandas as pd\n",
    "from tqdm import tqdm\n",
    "from api import GoogleDrive"
   ]
  },
  {
   "cell_type": "code",
   "execution_count": null,
   "metadata": {},
   "outputs": [],
   "source": [
    "google = GoogleDrive(\"C://Jehyeon/Crypto_paper/crypto_paper/google.json/\")"
   ]
  },
  {
   "cell_type": "code",
   "execution_count": null,
   "metadata": {},
   "outputs": [],
   "source": [
    "google_lst = google.list_files(\"CoinGecko\")"
   ]
  },
  {
   "cell_type": "code",
   "execution_count": null,
   "metadata": {},
   "outputs": [],
   "source": [
    "i = 0\n",
    "google_dict = {}\n",
    "for k,v in google_lst.items():\n",
    "    i+= 1\n",
    "    if i > 12060:\n",
    "        google_dict[k] = v"
   ]
  },
  {
   "cell_type": "code",
   "execution_count": null,
   "metadata": {},
   "outputs": [],
   "source": [
    "google.multi_download(\n",
    "    folder_name= \"CoinGecko\",\n",
    "    file_loc=\"C:/Jehyeon/Crypto_paper/crypto_paper/coingecko/\",\n",
    "    file_name_list=google_dict\n",
    ")"
   ]
  },
  {
   "cell_type": "code",
   "execution_count": null,
   "metadata": {},
   "outputs": [],
   "source": [
    "# 구글드라이브 데이터와 로컬의 데이터가 일치하는 지 확인\n",
    "google_key = list(google_lst.keys())\n",
    "not_in = []\n",
    "\n",
    "for file in os.listdir(\"coingecko\"):\n",
    "    if file not in google_key:\n",
    "        not_in.append(file)\n",
    "not_in"
   ]
  },
  {
   "attachments": {},
   "cell_type": "markdown",
   "metadata": {},
   "source": [
    "# 로컬 데이터 전처리"
   ]
  },
  {
   "cell_type": "code",
   "execution_count": null,
   "metadata": {},
   "outputs": [],
   "source": [
    "# timestamp를 맞춰주는 과정\n",
    "not_more_five = []\n",
    "execpt_list = []\n",
    "for file in tqdm(os.listdir(\"coingecko\")):\n",
    "    try:\n",
    "        # Unix to datetime코드\n",
    "        df = pd.read_csv(\"coingecko/{}\".format(file), index_col=0)\n",
    "        if df.shape[0] < 5:\n",
    "            not_more_five.append(file)\n",
    "            continue\n",
    "        elif len(str(df.Time[0])) == 13:\n",
    "            df.Time= pd.to_datetime(df.Time, unit=\"ms\")\n",
    "            df.Time.apply(lambda x: x.strftime(\"%Y-%m-%d\"))\n",
    "            df.to_csv(\"coingecko_pp/pp_{}\".format(file))\n",
    "        else:\n",
    "            df.to_csv(\"coingecko_pp/{}\".format(file))\n",
    "    except:\n",
    "        execpt_list.append(file)\n",
    "        continue"
   ]
  },
  {
   "cell_type": "code",
   "execution_count": null,
   "metadata": {},
   "outputs": [],
   "source": [
    "# 병국이가 원래 datetime으로 인덱스를 저장한 것만 불러와서 pp3에 저장해야한다\n",
    "exception_list = []\n",
    "ar = []\n",
    "for file in tqdm(os.listdir(\"coingecko\")):\n",
    "    try:\n",
    "        # Unix to datetime코드\n",
    "        df = pd.read_csv(\"coingecko/{}\".format(file), index_col=0)\n",
    "        if df.shape[0] < 5:\n",
    "            ar.append(file)\n",
    "            continue\n",
    "        elif str(df.index[0]).startswith(\"20\"):\n",
    "            df.to_csv(\"coingecko_pp3/{}\".format(file))\n",
    "    except:\n",
    "        exception_list.append(file)"
   ]
  },
  {
   "cell_type": "code",
   "execution_count": null,
   "metadata": {},
   "outputs": [],
   "source": [
    "exception_list"
   ]
  },
  {
   "cell_type": "code",
   "execution_count": null,
   "metadata": {},
   "outputs": [],
   "source": [
    "len(ar)"
   ]
  },
  {
   "cell_type": "code",
   "execution_count": null,
   "metadata": {},
   "outputs": [],
   "source": [
    "print(len(os.listdir(\"coingecko\")))\n",
    "print(len(os.listdir(\"coingecko_pp2\")))\n",
    "print(len(os.listdir(\"coingecko_pp3\")))\n",
    "# 이제 coingecko pp2와 coingecko pp3을 합치면된다"
   ]
  },
  {
   "cell_type": "code",
   "execution_count": null,
   "metadata": {},
   "outputs": [],
   "source": [
    "for file in tqdm(os.listdir(\"coingecko_pp2\")):\n",
    "    df = pd.read_csv(\"coingecko_pp2/{}\".format(file))\n",
    "    if str(file).startswith(\"pp_\"):\n",
    "        file = str(file)[3:]\n",
    "    df.to_csv(\"coingecko_pp3/{}\".format(file))"
   ]
  },
  {
   "cell_type": "code",
   "execution_count": null,
   "metadata": {},
   "outputs": [],
   "source": [
    "len(os.listdir(\"coingecko_pp3\"))"
   ]
  },
  {
   "attachments": {},
   "cell_type": "markdown",
   "metadata": {},
   "source": [
    "# 데이터 전처리"
   ]
  },
  {
   "cell_type": "code",
   "execution_count": null,
   "metadata": {},
   "outputs": [],
   "source": [
    "import os \n",
    "import pandas as pd\n",
    "from tqdm import tqdm"
   ]
  },
  {
   "cell_type": "code",
   "execution_count": null,
   "metadata": {},
   "outputs": [],
   "source": [
    "# 느린코드\n",
    "return_df = pd.DataFrame()\n",
    "\n",
    "for file in tqdm(os.listdir(\"coingecko_pp3\")[:6000]):\n",
    "    try:\n",
    "        df = pd.read_csv(\"coingecko_pp3/{}\".format(file), index_col=0)[[\"Price\",\"Time\"]]\n",
    "        df.index = pd.to_datetime(df.Time)\n",
    "        df = df.drop(\"Time\",axis=1)\n",
    "        col = list(return_df.columns)\n",
    "\n",
    "        return_df = pd.merge(return_df,df,\n",
    "                             left_index=True, right_index=True,\n",
    "                             how=\"outer\")\n",
    "        col.append(str(file[:-4]))\n",
    "        return_df.columns = col\n",
    "    except:\n",
    "        continue\n",
    "return_df"
   ]
  },
  {
   "cell_type": "code",
   "execution_count": null,
   "metadata": {},
   "outputs": [],
   "source": [
    "# 빠른코드\n",
    "coin_dict = {}\n",
    "\n",
    "for file in tqdm(os.listdir(\"coingecko_pp3\")):\n",
    "    try: # 내가 저장\n",
    "        df = pd.read_csv(\"coingecko_pp3/{}\".format(file), index_col=0)[[\"Time\",\"Price\",\"Marketcap\"]]\n",
    "        df.index = pd.to_datetime(df.Time)\n",
    "        df.index = df.index.strftime(\"%Y-%m-%d\")\n",
    "        df.drop(\"Time\", axis=1, inplace=True)\n",
    "        df.columns = [\"prices\",\"market_caps\"]\n",
    "        coin_dict[file] = df\n",
    "    except: # 병국이 저장\n",
    "        df = pd.read_csv(\"coingecko_pp3/{}\".format(file), index_col=0)[[\"prices\",\"market_caps\"]]\n",
    "        df.index = pd.to_datetime(df.index)\n",
    "        df.index = df.index.strftime(\"%Y-%m-%d\")\n",
    "        coin_dict[file] = df"
   ]
  },
  {
   "cell_type": "code",
   "execution_count": null,
   "metadata": {},
   "outputs": [],
   "source": [
    "coin_price_dict = {}\n",
    "for key,df in coin_dict.items():\n",
    "    coin_price_dict[key] = df[[\"prices\"]]"
   ]
  },
  {
   "cell_type": "code",
   "execution_count": null,
   "metadata": {},
   "outputs": [],
   "source": [
    "# find the longest timeframe index\n",
    "longest_index = max([df.index for df in coin_price_dict.values()], key=len)\n",
    "\n",
    "# create a close dataframe with the longest timeframe index and columns \"key1\", \"key2\", \"key3\"\n",
    "close_df = pd.DataFrame(index=longest_index, columns=coin_price_dict.keys())\n",
    "\n",
    "for key, df in tqdm(coin_price_dict.items()):\n",
    "    # use groupby and last to select the last value for each index\n",
    "    close_df[key] = df.groupby(df.index).last().reindex(longest_index)"
   ]
  },
  {
   "cell_type": "code",
   "execution_count": null,
   "metadata": {},
   "outputs": [],
   "source": [
    "print(os.listdir(\"coingecko_pp3\"))"
   ]
  },
  {
   "cell_type": "code",
   "execution_count": 58,
   "metadata": {},
   "outputs": [
    {
     "data": {
      "text/plain": [
       "<AxesSubplot:>"
      ]
     },
     "execution_count": 58,
     "metadata": {},
     "output_type": "execute_result"
    },
    {
     "data": {
      "image/png": "[encoded data removed]",
      "text/plain": [
       "<Figure size 640x480 with 1 Axes>"
      ]
     },
     "metadata": {},
     "output_type": "display_data"
    }
   ],
   "source": [
    "#close_df[\"ethereum.csv\"].plot()"
   ]
  },
  {
   "cell_type": "code",
   "execution_count": null,
   "metadata": {},
   "outputs": [],
   "source": []
  },
  {
   "cell_type": "code",
   "execution_count": null,
   "metadata": {},
   "outputs": [],
   "source": []
  },
  {
   "attachments": {},
   "cell_type": "markdown",
   "metadata": {},
   "source": [
    "# 회귀분석"
   ]
  },
  {
   "cell_type": "code",
   "execution_count": null,
   "metadata": {},
   "outputs": [],
   "source": [
    "import os\n",
    "import numpy as np\n",
    "import pandas as pd\n",
    "import statsmodels.api as sm"
   ]
  },
  {
   "cell_type": "code",
   "execution_count": null,
   "metadata": {},
   "outputs": [],
   "source": [
    "# 데이터 불러오고 합치기\n",
    "#coin_dict = {}\n",
    "#\n",
    "#file_list = os.listdir(\"data\")\n",
    "#\n",
    "#for f in file_list:\n",
    "#    print(f)\n",
    "#    df = pd.read_csv(\"Data/\" + f, index_col=0,\n",
    "#                     parse_dates=True)[\"close\"]\n",
    "#    coin_dict[str(f)[:-4]] = df\n",
    "#\n",
    "#coin_df = pd.DataFrame(coin_dict)"
   ]
  },
  {
   "cell_type": "code",
   "execution_count": null,
   "metadata": {},
   "outputs": [],
   "source": [
    "# 합친 데이터 불러오기\n",
    "coin_df = pd.read_csv(\"all_coin_closeprice.csv\", index_col=0,\n",
    "                      parse_dates=True)\n",
    "\n",
    "# 0은 NaN으로 변경\n",
    "coin_df_with_nan = coin_df.replace(0,np.nan)"
   ]
  },
  {
   "cell_type": "code",
   "execution_count": null,
   "metadata": {},
   "outputs": [],
   "source": [
    "# 주간 리턴 계산\n",
    "save_dict = {}\n",
    "week_start  = pd.date_range(\"2010-01-01\",\"2022-12-31\", freq=\"W\")\n",
    "\n",
    "for i in range(len(week_start)-1):\n",
    "    w_start = week_start[i]\n",
    "    w_end = week_start[i+1] - pd.Timedelta(days=1)\n",
    "    tmp_df = coin_df_with_nan.loc[w_start:w_end] # 일주일치 데이터 추출\n",
    "    w_rtn = tmp_df.apply(lambda x: (x[-1] - x[0]) / x[0] + 1, axis=0) # 일주일간 리턴 계산\n",
    "    save_dict[w_start] = w_rtn\n",
    "\n",
    "weekly_return = pd.DataFrame(save_dict).T"
   ]
  },
  {
   "cell_type": "code",
   "execution_count": null,
   "metadata": {},
   "outputs": [],
   "source": [
    "# row별로 rank를 때려줌(수익률이 높을수록 0에 가까움) (NaN은 처리함)\n",
    "weekly_return_rank = weekly_return.rank(axis=1, pct=True, \n",
    "                                        ascending=False, na_option=\"keep\") \n",
    "weekly_return_rank"
   ]
  },
  {
   "cell_type": "code",
   "execution_count": null,
   "metadata": {},
   "outputs": [],
   "source": [
    "# rank를 기준으로 screening한 DataFrame을 만든다\n",
    "high = weekly_return_rank.apply(lambda x: np.where(x < 1/3, 1, np.nan))\n",
    "middle = weekly_return_rank.apply(lambda x: np.where(((x < 2/3) & (x >= 1/3)), 1, np.nan))\n",
    "low = weekly_return_rank.apply(lambda x: np.where(x >= 2/3, 1, np.nan))"
   ]
  },
  {
   "cell_type": "code",
   "execution_count": null,
   "metadata": {},
   "outputs": [],
   "source": [
    "# 분위수별 주간 리턴 구하기(평균처줌)\n",
    "high_rtn = (weekly_return * high).mean(skipna=True, axis=1)\n",
    "middle_rtn = (weekly_return * middle).mean(skipna=True, axis=1)\n",
    "low_rtn = (weekly_return * low).mean(skipna=True, axis=1)"
   ]
  },
  {
   "cell_type": "code",
   "execution_count": null,
   "metadata": {},
   "outputs": [],
   "source": [
    "# Sample기간 동안의 수익률 구하기 (기간을 길게 잡으니 inf가 뜸)\n",
    "a = high_rtn.loc[\"2020\":\"2022\"].cumprod()\n",
    "b = middle_rtn.loc[\"2020\":\"2022\"].cumprod()\n",
    "c = low_rtn.loc[\"2020\":\"2022\"].cumprod()"
   ]
  },
  {
   "cell_type": "code",
   "execution_count": null,
   "metadata": {},
   "outputs": [],
   "source": [
    "def do_regression(df, t):\n",
    "    '''t만큼 시차를 가진 regression'''\n",
    "    tmp_df = df.copy()\n",
    "    y = tmp_df.shift(-t)\n",
    "    concat = pd.concat([tmp_df, y], keys=[\"return\",\"return_\"+str(t)], axis=1) \\\n",
    "               .dropna()\n",
    "    model = sm.OLS(concat[\"return_\"+str(t)], concat[\"return\"])\n",
    "    result = model.fit(cov_type='HAC',cov_kwds={'maxlags':t}) #t-1인가?\n",
    "    return result"
   ]
  },
  {
   "cell_type": "code",
   "execution_count": null,
   "metadata": {},
   "outputs": [],
   "source": [
    "low_1 = do_regression(a, 1)\n",
    "low_2 = do_regression(a, 2)\n",
    "low_4 = do_regression(a, 4)\n",
    "\n",
    "middle_1 = do_regression(b, 1)\n",
    "middle_2 = do_regression(b, 2)\n",
    "middle_4 = do_regression(b, 4)\n",
    "\n",
    "high_1 = do_regression(c, 1)\n",
    "high_2 = do_regression(c, 2)\n",
    "high_4 = do_regression(c, 4)\n",
    "#rt1_1.params, rt1_1.pvalues"
   ]
  },
  {
   "cell_type": "code",
   "execution_count": null,
   "metadata": {},
   "outputs": [],
   "source": [
    "pd.DataFrame({\"R_t_t+1\": [low_1.params[0], middle_1.params[0], high_1.params[0]],\n",
    "              \"R_t_t+2\": [low_2.params[0], middle_2.params[0], high_2.params[0]],\n",
    "              \"R_t_t+4\": [low_4.params[0], middle_4.params[0], high_4.params[0]]},\n",
    "              index=[\"Low\",\"Middle\",\"Hogh\"])"
   ]
  },
  {
   "cell_type": "code",
   "execution_count": null,
   "metadata": {},
   "outputs": [],
   "source": []
  }
 ],
 "metadata": {
  "kernelspec": {
   "display_name": "base",
   "language": "python",
   "name": "python3"
  },
  "language_info": {
   "codemirror_mode": {
    "name": "ipython",
    "version": 3
   },
   "file_extension": ".py",
   "mimetype": "text/x-python",
   "name": "python",
   "nbconvert_exporter": "python",
   "pygments_lexer": "ipython3",
   "version": "3.9.13"
  },
  "orig_nbformat": 4,
  "vscode": {
   "interpreter": {
    "hash": "a077222d77dfe082b8f1dd562ad70e458ac2ab76993a0b248ab0476e32e9e8dd"
   }
  }
 },
 "nbformat": 4,
 "nbformat_minor": 2
}
