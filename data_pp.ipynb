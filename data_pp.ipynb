{
 "cells": [
  {
   "attachments": {},
   "cell_type": "markdown",
   "metadata": {},
   "source": [
    "# 데이터 전처리(Sample Data)"
   ]
  },
  {
   "cell_type": "code",
   "execution_count": 3,
   "metadata": {},
   "outputs": [],
   "source": [
    "import os \n",
    "import numpy as np \n",
    "import pandas as pd \n",
    "from tqdm import tqdm\n",
    "from tqdm.contrib import tzip"
   ]
  },
  {
   "cell_type": "code",
   "execution_count": null,
   "metadata": {},
   "outputs": [],
   "source": [
    "# raw_data를 불러와서 메모리에 올립니다\n",
    "lst = os.listdir(\"gecko_drive\")\n",
    "coin_price_dict = {}\n",
    "coin_marketcap_dict = {}\n",
    "coin_volume_dict = {}\n",
    "error_list = []\n",
    "\n",
    "for file in tqdm(lst):\n",
    "    try:\n",
    "        df = pd.read_csv(\"gecko_drive/{}\".format(file), index_col=0)\n",
    "        coin_price_dict[file] = df[[\"prices\"]]\n",
    "        coin_marketcap_dict[file] = df[[\"market_caps\"]]\n",
    "        coin_volume_dict[file] = df[[\"total_volumes\"]]\n",
    "\n",
    "    except:\n",
    "        error_list.append(file)\n",
    "        print(\"{} Open Error!!\".format(file))\n",
    "        continue\n",
    "print(\"Done... Error file is saved in error_list\")"
   ]
  },
  {
   "cell_type": "code",
   "execution_count": 1,
   "metadata": {},
   "outputs": [
    {
     "ename": "NameError",
     "evalue": "name 'error_list' is not defined",
     "output_type": "error",
     "traceback": [
      "\u001b[1;31m---------------------------------------------------------------------------\u001b[0m",
      "\u001b[1;31mNameError\u001b[0m                                 Traceback (most recent call last)",
      "\u001b[1;32m~\\AppData\\Local\\Temp\\ipykernel_11044\\3228423260.py\u001b[0m in \u001b[0;36m<module>\u001b[1;34m\u001b[0m\n\u001b[1;32m----> 1\u001b[1;33m \u001b[0merror_list\u001b[0m\u001b[1;33m\u001b[0m\u001b[1;33m\u001b[0m\u001b[0m\n\u001b[0m",
      "\u001b[1;31mNameError\u001b[0m: name 'error_list' is not defined"
     ]
    }
   ],
   "source": [
    "error_list"
   ]
  },
  {
   "cell_type": "code",
   "execution_count": 8,
   "metadata": {},
   "outputs": [],
   "source": [
    "# 데이터를 하나의 DataFrame으로 합쳐줍니다\n",
    "\n",
    "# find the longest timeframe index\n",
    "#longest_index_price = max([df.index for df in coin_price_dict.values()], key=len)\n",
    "#longest_index_cap = max([df.index for df in coin_marketcap_dict.values()], key=len)\n",
    "#longest_index_vol = max([df.index for df in coin_volume_dict.values()], key=len)\n",
    "#\n",
    "## create a close dataframe with the longest timeframe index and columns \"key1\", \"key2\", \"key3\"\n",
    "#price_df = pd.DataFrame(index=longest_index_price, columns=coin_price_dict.keys())\n",
    "#market_cap_df = pd.DataFrame(index=longest_index_cap, columns=coin_marketcap_dict.keys())\n",
    "#volume_df = pd.DataFrame(index=longest_index_vol, columns=coin_volume_dict.keys())\n",
    "\n",
    "#for key, df in tqdm(coin_price_dict.items()):\n",
    "#    # use groupby and last to select the last value for each index\n",
    "#    df = df.astype(\"float64\")\n",
    "#    price_df[key] = df.groupby(df.index).last().reindex(longest_index_price)\n",
    "#\n",
    "#for key, df in tqdm(coin_marketcap_dict.items()):\n",
    "#    df2 = df.astype(\"float64\")\n",
    "#    market_cap_df[key] = df2.groupby(df2.index).last().reindex(longest_index_cap)\n",
    "#\n",
    "#for key, df in tqdm(coin_volume_dict.items()):\n",
    "#    df = df.astype(\"float64\")\n",
    "#    volume_df[key] = df.groupby(df.index).last().reindex(longest_index_vol)"
   ]
  },
  {
   "attachments": {},
   "cell_type": "markdown",
   "metadata": {},
   "source": [
    "# 전처리된 데이터로 분석하기"
   ]
  },
  {
   "cell_type": "code",
   "execution_count": 1,
   "metadata": {},
   "outputs": [],
   "source": [
    "import numpy as np\n",
    "import pandas as pd"
   ]
  },
  {
   "cell_type": "code",
   "execution_count": 2,
   "metadata": {},
   "outputs": [],
   "source": [
    "price_df = pd.read_csv(\"gecko_price.csv\", index_col=0,\n",
    "                       parse_dates=True)\n",
    "marketcap_df = pd.read_csv(\"gecko_marketcap.csv\", index_col=0,\n",
    "                       parse_dates=True)"
   ]
  },
  {
   "cell_type": "code",
   "execution_count": 4,
   "metadata": {},
   "outputs": [
    {
     "ename": "KeyError",
     "evalue": "\"[('Augur.csv', 'Aventus.csv', 'Bata.csv', 'Bitcoin Fast.csv', 'Crevacoin.csv', 'Digitalcoin.csv', 'DigixDAO.csv', 'eGold.csv', 'Fedoracoin.csv', 'FlypMe.csv', 'GlobalBoost-Y.csv', 'Ixcoin.csv', 'Joulecoin.csv', 'MyBit.csv', 'RChain.csv', 'SwagBucks.csv', 'Veritaseum.csv')] not found in axis\"",
     "output_type": "error",
     "traceback": [
      "\u001b[1;31m---------------------------------------------------------------------------\u001b[0m",
      "\u001b[1;31mKeyError\u001b[0m                                  Traceback (most recent call last)",
      "\u001b[1;32m~\\AppData\\Local\\Temp\\ipykernel_2292\\833205344.py\u001b[0m in \u001b[0;36m<module>\u001b[1;34m\u001b[0m\n\u001b[0;32m      6\u001b[0m         \u001b[0mproblemetic_cols\u001b[0m\u001b[1;33m.\u001b[0m\u001b[0mappend\u001b[0m\u001b[1;33m(\u001b[0m\u001b[0mcol\u001b[0m\u001b[1;33m)\u001b[0m\u001b[1;33m\u001b[0m\u001b[1;33m\u001b[0m\u001b[0m\n\u001b[0;32m      7\u001b[0m \u001b[1;33m\u001b[0m\u001b[0m\n\u001b[1;32m----> 8\u001b[1;33m \u001b[0mdaily_return\u001b[0m \u001b[1;33m=\u001b[0m \u001b[0mdaily_return\u001b[0m\u001b[1;33m.\u001b[0m\u001b[0mdrop\u001b[0m\u001b[1;33m(\u001b[0m\u001b[1;33m[\u001b[0m\u001b[0mproblemetic_cols\u001b[0m\u001b[1;33m]\u001b[0m\u001b[1;33m,\u001b[0m \u001b[0maxis\u001b[0m\u001b[1;33m=\u001b[0m\u001b[1;36m1\u001b[0m\u001b[1;33m)\u001b[0m\u001b[1;33m\u001b[0m\u001b[1;33m\u001b[0m\u001b[0m\n\u001b[0m\u001b[0;32m      9\u001b[0m \u001b[0mmkt_cap\u001b[0m \u001b[1;33m=\u001b[0m \u001b[0mdaily_return\u001b[0m\u001b[1;33m.\u001b[0m\u001b[0mdrop\u001b[0m\u001b[1;33m(\u001b[0m\u001b[1;33m[\u001b[0m\u001b[0mproblemetic_cols\u001b[0m\u001b[1;33m]\u001b[0m\u001b[1;33m,\u001b[0m \u001b[0maxis\u001b[0m\u001b[1;33m=\u001b[0m\u001b[1;36m1\u001b[0m\u001b[1;33m)\u001b[0m\u001b[1;33m\u001b[0m\u001b[1;33m\u001b[0m\u001b[0m\n",
      "\u001b[1;32mc:\\Users\\user\\anaconda3\\lib\\site-packages\\pandas\\util\\_decorators.py\u001b[0m in \u001b[0;36mwrapper\u001b[1;34m(*args, **kwargs)\u001b[0m\n\u001b[0;32m    329\u001b[0m                     \u001b[0mstacklevel\u001b[0m\u001b[1;33m=\u001b[0m\u001b[0mfind_stack_level\u001b[0m\u001b[1;33m(\u001b[0m\u001b[1;33m)\u001b[0m\u001b[1;33m,\u001b[0m\u001b[1;33m\u001b[0m\u001b[1;33m\u001b[0m\u001b[0m\n\u001b[0;32m    330\u001b[0m                 )\n\u001b[1;32m--> 331\u001b[1;33m             \u001b[1;32mreturn\u001b[0m \u001b[0mfunc\u001b[0m\u001b[1;33m(\u001b[0m\u001b[1;33m*\u001b[0m\u001b[0margs\u001b[0m\u001b[1;33m,\u001b[0m \u001b[1;33m**\u001b[0m\u001b[0mkwargs\u001b[0m\u001b[1;33m)\u001b[0m\u001b[1;33m\u001b[0m\u001b[1;33m\u001b[0m\u001b[0m\n\u001b[0m\u001b[0;32m    332\u001b[0m \u001b[1;33m\u001b[0m\u001b[0m\n\u001b[0;32m    333\u001b[0m         \u001b[1;31m# error: \"Callable[[VarArg(Any), KwArg(Any)], Any]\" has no\u001b[0m\u001b[1;33m\u001b[0m\u001b[1;33m\u001b[0m\u001b[0m\n",
      "\u001b[1;32mc:\\Users\\user\\anaconda3\\lib\\site-packages\\pandas\\core\\frame.py\u001b[0m in \u001b[0;36mdrop\u001b[1;34m(self, labels, axis, index, columns, level, inplace, errors)\u001b[0m\n\u001b[0;32m   5397\u001b[0m                 \u001b[0mweight\u001b[0m  \u001b[1;36m1.0\u001b[0m     \u001b[1;36m0.8\u001b[0m\u001b[1;33m\u001b[0m\u001b[1;33m\u001b[0m\u001b[0m\n\u001b[0;32m   5398\u001b[0m         \"\"\"\n\u001b[1;32m-> 5399\u001b[1;33m         return super().drop(\n\u001b[0m\u001b[0;32m   5400\u001b[0m             \u001b[0mlabels\u001b[0m\u001b[1;33m=\u001b[0m\u001b[0mlabels\u001b[0m\u001b[1;33m,\u001b[0m\u001b[1;33m\u001b[0m\u001b[1;33m\u001b[0m\u001b[0m\n\u001b[0;32m   5401\u001b[0m             \u001b[0maxis\u001b[0m\u001b[1;33m=\u001b[0m\u001b[0maxis\u001b[0m\u001b[1;33m,\u001b[0m\u001b[1;33m\u001b[0m\u001b[1;33m\u001b[0m\u001b[0m\n",
      "\u001b[1;32mc:\\Users\\user\\anaconda3\\lib\\site-packages\\pandas\\util\\_decorators.py\u001b[0m in \u001b[0;36mwrapper\u001b[1;34m(*args, **kwargs)\u001b[0m\n\u001b[0;32m    329\u001b[0m                     \u001b[0mstacklevel\u001b[0m\u001b[1;33m=\u001b[0m\u001b[0mfind_stack_level\u001b[0m\u001b[1;33m(\u001b[0m\u001b[1;33m)\u001b[0m\u001b[1;33m,\u001b[0m\u001b[1;33m\u001b[0m\u001b[1;33m\u001b[0m\u001b[0m\n\u001b[0;32m    330\u001b[0m                 )\n\u001b[1;32m--> 331\u001b[1;33m             \u001b[1;32mreturn\u001b[0m \u001b[0mfunc\u001b[0m\u001b[1;33m(\u001b[0m\u001b[1;33m*\u001b[0m\u001b[0margs\u001b[0m\u001b[1;33m,\u001b[0m \u001b[1;33m**\u001b[0m\u001b[0mkwargs\u001b[0m\u001b[1;33m)\u001b[0m\u001b[1;33m\u001b[0m\u001b[1;33m\u001b[0m\u001b[0m\n\u001b[0m\u001b[0;32m    332\u001b[0m \u001b[1;33m\u001b[0m\u001b[0m\n\u001b[0;32m    333\u001b[0m         \u001b[1;31m# error: \"Callable[[VarArg(Any), KwArg(Any)], Any]\" has no\u001b[0m\u001b[1;33m\u001b[0m\u001b[1;33m\u001b[0m\u001b[0m\n",
      "\u001b[1;32mc:\\Users\\user\\anaconda3\\lib\\site-packages\\pandas\\core\\generic.py\u001b[0m in \u001b[0;36mdrop\u001b[1;34m(self, labels, axis, index, columns, level, inplace, errors)\u001b[0m\n\u001b[0;32m   4503\u001b[0m         \u001b[1;32mfor\u001b[0m \u001b[0maxis\u001b[0m\u001b[1;33m,\u001b[0m \u001b[0mlabels\u001b[0m \u001b[1;32min\u001b[0m \u001b[0maxes\u001b[0m\u001b[1;33m.\u001b[0m\u001b[0mitems\u001b[0m\u001b[1;33m(\u001b[0m\u001b[1;33m)\u001b[0m\u001b[1;33m:\u001b[0m\u001b[1;33m\u001b[0m\u001b[1;33m\u001b[0m\u001b[0m\n\u001b[0;32m   4504\u001b[0m             \u001b[1;32mif\u001b[0m \u001b[0mlabels\u001b[0m \u001b[1;32mis\u001b[0m \u001b[1;32mnot\u001b[0m \u001b[1;32mNone\u001b[0m\u001b[1;33m:\u001b[0m\u001b[1;33m\u001b[0m\u001b[1;33m\u001b[0m\u001b[0m\n\u001b[1;32m-> 4505\u001b[1;33m                 \u001b[0mobj\u001b[0m \u001b[1;33m=\u001b[0m \u001b[0mobj\u001b[0m\u001b[1;33m.\u001b[0m\u001b[0m_drop_axis\u001b[0m\u001b[1;33m(\u001b[0m\u001b[0mlabels\u001b[0m\u001b[1;33m,\u001b[0m \u001b[0maxis\u001b[0m\u001b[1;33m,\u001b[0m \u001b[0mlevel\u001b[0m\u001b[1;33m=\u001b[0m\u001b[0mlevel\u001b[0m\u001b[1;33m,\u001b[0m \u001b[0merrors\u001b[0m\u001b[1;33m=\u001b[0m\u001b[0merrors\u001b[0m\u001b[1;33m)\u001b[0m\u001b[1;33m\u001b[0m\u001b[1;33m\u001b[0m\u001b[0m\n\u001b[0m\u001b[0;32m   4506\u001b[0m \u001b[1;33m\u001b[0m\u001b[0m\n\u001b[0;32m   4507\u001b[0m         \u001b[1;32mif\u001b[0m \u001b[0minplace\u001b[0m\u001b[1;33m:\u001b[0m\u001b[1;33m\u001b[0m\u001b[1;33m\u001b[0m\u001b[0m\n",
      "\u001b[1;32mc:\\Users\\user\\anaconda3\\lib\\site-packages\\pandas\\core\\generic.py\u001b[0m in \u001b[0;36m_drop_axis\u001b[1;34m(self, labels, axis, level, errors, only_slice)\u001b[0m\n\u001b[0;32m   4544\u001b[0m                 \u001b[0mnew_axis\u001b[0m \u001b[1;33m=\u001b[0m \u001b[0maxis\u001b[0m\u001b[1;33m.\u001b[0m\u001b[0mdrop\u001b[0m\u001b[1;33m(\u001b[0m\u001b[0mlabels\u001b[0m\u001b[1;33m,\u001b[0m \u001b[0mlevel\u001b[0m\u001b[1;33m=\u001b[0m\u001b[0mlevel\u001b[0m\u001b[1;33m,\u001b[0m \u001b[0merrors\u001b[0m\u001b[1;33m=\u001b[0m\u001b[0merrors\u001b[0m\u001b[1;33m)\u001b[0m\u001b[1;33m\u001b[0m\u001b[1;33m\u001b[0m\u001b[0m\n\u001b[0;32m   4545\u001b[0m             \u001b[1;32melse\u001b[0m\u001b[1;33m:\u001b[0m\u001b[1;33m\u001b[0m\u001b[1;33m\u001b[0m\u001b[0m\n\u001b[1;32m-> 4546\u001b[1;33m                 \u001b[0mnew_axis\u001b[0m \u001b[1;33m=\u001b[0m \u001b[0maxis\u001b[0m\u001b[1;33m.\u001b[0m\u001b[0mdrop\u001b[0m\u001b[1;33m(\u001b[0m\u001b[0mlabels\u001b[0m\u001b[1;33m,\u001b[0m \u001b[0merrors\u001b[0m\u001b[1;33m=\u001b[0m\u001b[0merrors\u001b[0m\u001b[1;33m)\u001b[0m\u001b[1;33m\u001b[0m\u001b[1;33m\u001b[0m\u001b[0m\n\u001b[0m\u001b[0;32m   4547\u001b[0m             \u001b[0mindexer\u001b[0m \u001b[1;33m=\u001b[0m \u001b[0maxis\u001b[0m\u001b[1;33m.\u001b[0m\u001b[0mget_indexer\u001b[0m\u001b[1;33m(\u001b[0m\u001b[0mnew_axis\u001b[0m\u001b[1;33m)\u001b[0m\u001b[1;33m\u001b[0m\u001b[1;33m\u001b[0m\u001b[0m\n\u001b[0;32m   4548\u001b[0m \u001b[1;33m\u001b[0m\u001b[0m\n",
      "\u001b[1;32mc:\\Users\\user\\anaconda3\\lib\\site-packages\\pandas\\core\\indexes\\base.py\u001b[0m in \u001b[0;36mdrop\u001b[1;34m(self, labels, errors)\u001b[0m\n\u001b[0;32m   6932\u001b[0m         \u001b[1;32mif\u001b[0m \u001b[0mmask\u001b[0m\u001b[1;33m.\u001b[0m\u001b[0many\u001b[0m\u001b[1;33m(\u001b[0m\u001b[1;33m)\u001b[0m\u001b[1;33m:\u001b[0m\u001b[1;33m\u001b[0m\u001b[1;33m\u001b[0m\u001b[0m\n\u001b[0;32m   6933\u001b[0m             \u001b[1;32mif\u001b[0m \u001b[0merrors\u001b[0m \u001b[1;33m!=\u001b[0m \u001b[1;34m\"ignore\"\u001b[0m\u001b[1;33m:\u001b[0m\u001b[1;33m\u001b[0m\u001b[1;33m\u001b[0m\u001b[0m\n\u001b[1;32m-> 6934\u001b[1;33m                 \u001b[1;32mraise\u001b[0m \u001b[0mKeyError\u001b[0m\u001b[1;33m(\u001b[0m\u001b[1;34mf\"{list(labels[mask])} not found in axis\"\u001b[0m\u001b[1;33m)\u001b[0m\u001b[1;33m\u001b[0m\u001b[1;33m\u001b[0m\u001b[0m\n\u001b[0m\u001b[0;32m   6935\u001b[0m             \u001b[0mindexer\u001b[0m \u001b[1;33m=\u001b[0m \u001b[0mindexer\u001b[0m\u001b[1;33m[\u001b[0m\u001b[1;33m~\u001b[0m\u001b[0mmask\u001b[0m\u001b[1;33m]\u001b[0m\u001b[1;33m\u001b[0m\u001b[1;33m\u001b[0m\u001b[0m\n\u001b[0;32m   6936\u001b[0m         \u001b[1;32mreturn\u001b[0m \u001b[0mself\u001b[0m\u001b[1;33m.\u001b[0m\u001b[0mdelete\u001b[0m\u001b[1;33m(\u001b[0m\u001b[0mindexer\u001b[0m\u001b[1;33m)\u001b[0m\u001b[1;33m\u001b[0m\u001b[1;33m\u001b[0m\u001b[0m\n",
      "\u001b[1;31mKeyError\u001b[0m: \"[('Augur.csv', 'Aventus.csv', 'Bata.csv', 'Bitcoin Fast.csv', 'Crevacoin.csv', 'Digitalcoin.csv', 'DigixDAO.csv', 'eGold.csv', 'Fedoracoin.csv', 'FlypMe.csv', 'GlobalBoost-Y.csv', 'Ixcoin.csv', 'Joulecoin.csv', 'MyBit.csv', 'RChain.csv', 'SwagBucks.csv', 'Veritaseum.csv')] not found in axis\""
     ]
    }
   ],
   "source": [
    "daily_return = price_df.pct_change()\n",
    "\n",
    "problemetic_cols = []\n",
    "for col in daily_return.columns:\n",
    "    if daily_return[col].max() > 10000:\n",
    "        problemetic_cols.append(col)\n",
    "    \n",
    "daily_return = daily_return.drop([problemetic_cols], axis=1)\n",
    "mkt_cap = daily_return.drop([problemetic_cols], axis=1)"
   ]
  },
  {
   "cell_type": "code",
   "execution_count": 13,
   "metadata": {},
   "outputs": [],
   "source": [
    "# Datetime으로 index를 변경\n",
    "#price_df.index = pd.to_datetime(price_df.index)\n",
    "#market_cap_df.index = pd.to_datetime(market_cap_df.index)\n",
    "#volume_df.index = pd.to_datetime(volume_df.index)"
   ]
  },
  {
   "cell_type": "code",
   "execution_count": 14,
   "metadata": {},
   "outputs": [],
   "source": [
    "# 시총으로 weight를 계산\n",
    "weight = marketcap_df.apply(lambda x: x / np.nansum(x), axis=1)\n",
    "\n",
    "# 수익률 데이터프레임 생성\n",
    "return_df = price_df.pct_change()"
   ]
  },
  {
   "cell_type": "code",
   "execution_count": 38,
   "metadata": {},
   "outputs": [
    {
     "data": {
      "text/plain": [
       "2013-04-28    1.000000\n",
       "2013-04-29    1.049799\n",
       "2013-04-30    1.001406\n",
       "2013-05-01    0.866211\n",
       "2013-05-02    0.765603\n",
       "                ...   \n",
       "2014-04-02    4.503729\n",
       "2014-04-03    4.583736\n",
       "2014-04-04    4.604709\n",
       "2014-04-05    4.772405\n",
       "2014-04-06    4.727261\n",
       "Length: 343, dtype: float64"
      ]
     },
     "execution_count": 38,
     "metadata": {},
     "output_type": "execute_result"
    }
   ],
   "source": [
    "# weight * 리턴 (Without screening)\n",
    "((return_df * weight).sum(axis=1) + 1).cumprod().loc[~((return_df * weight).sum(axis=1) + 1).cumprod().isin([np.inf])]#.plot(figsize=(24,12));"
   ]
  },
  {
   "cell_type": "code",
   "execution_count": 59,
   "metadata": {},
   "outputs": [],
   "source": [
    "# 시총으로 screening (1,000,000달러 이상)\n",
    "screener = np.where(marketcap_df > 1_000_0000, 1, np.nan)\n",
    "screener_df = pd.DataFrame(screener, index=marketcap_df.index,\n",
    "                           columns=marketcap_df.columns)\n",
    "\n",
    "# 스크리닝 후, 스크린한 것들로만 시가총액 가중 weight를 구함\n",
    "screened_weight = (screener_df * marketcap_df).apply(lambda x: x / np.nansum(x), axis=1)"
   ]
  },
  {
   "cell_type": "code",
   "execution_count": 68,
   "metadata": {},
   "outputs": [],
   "source": [
    "# 상장된 코인 수가 중간에 0이 되는 데이터 문제 수정을 위해서\n",
    "market_cap_df_ffill = marketcap_df.copy().ffill()\n",
    "\n",
    "# 시총으로 screening (1,000,000달러 이상)\n",
    "screener = np.where(market_cap_df_ffill > 1_000_0000, 1, np.nan)\n",
    "screener_df = pd.DataFrame(screener, index=market_cap_df_ffill.index,\n",
    "                           columns=market_cap_df_ffill.columns)\n",
    "\n",
    "# 스크리닝 후, 스크린한 것들로만 시가총액 가중 weight를 구함\n",
    "screened_weight = (screener_df * marketcap_df).apply(lambda x: x / np.nansum(x), axis=1)"
   ]
  },
  {
   "cell_type": "code",
   "execution_count": 69,
   "metadata": {},
   "outputs": [
    {
     "data": {
      "image/png": "[encoded data removed]",
      "text/plain": [
       "<Figure size 2400x1200 with 1 Axes>"
      ]
     },
     "metadata": {},
     "output_type": "display_data"
    }
   ],
   "source": [
    "# ffill을 하고, 스크리닝 후 살아남은 종목 수를 출력 (수익률 아님!!)\n",
    "screened_weight.count(axis=1).plot(figsize=(24,12));"
   ]
  },
  {
   "cell_type": "code",
   "execution_count": null,
   "metadata": {},
   "outputs": [],
   "source": []
  },
  {
   "cell_type": "code",
   "execution_count": 62,
   "metadata": {},
   "outputs": [
    {
     "data": {
      "image/png": "[encoded data removed]",
      "text/plain": [
       "<Figure size 2400x1200 with 1 Axes>"
      ]
     },
     "metadata": {},
     "output_type": "display_data"
    }
   ],
   "source": [
    "# 스크리닝하고, 시가총액으로 가중평균한 수익률\n",
    "((return_df * screened_weight).sum(axis=1) + 1).cumprod().plot(figsize=(24,12));"
   ]
  },
  {
   "cell_type": "code",
   "execution_count": null,
   "metadata": {},
   "outputs": [],
   "source": []
  },
  {
   "cell_type": "code",
   "execution_count": null,
   "metadata": {},
   "outputs": [],
   "source": []
  },
  {
   "attachments": {},
   "cell_type": "markdown",
   "metadata": {},
   "source": [
    "Coingecko에서 데이터받기"
   ]
  },
  {
   "cell_type": "code",
   "execution_count": null,
   "metadata": {},
   "outputs": [],
   "source": [
    "import os\n",
    "import time\n",
    "import numpy as np\n",
    "import pandas as pd\n",
    "from tqdm import tqdm\n",
    "from api import CoinGecko, GoogleDrive"
   ]
  },
  {
   "cell_type": "code",
   "execution_count": null,
   "metadata": {},
   "outputs": [],
   "source": [
    "google = GoogleDrive(\"C://Jehyeon/Crypto_paper/crypto_paper/google.json/\")"
   ]
  },
  {
   "cell_type": "code",
   "execution_count": null,
   "metadata": {},
   "outputs": [],
   "source": [
    "lst = google.list_files(\"CoinGecko2\")"
   ]
  },
  {
   "cell_type": "code",
   "execution_count": null,
   "metadata": {},
   "outputs": [],
   "source": [
    "len(lst)"
   ]
  },
  {
   "cell_type": "code",
   "execution_count": null,
   "metadata": {},
   "outputs": [],
   "source": [
    "l = [key.replace(\".\",\"_\").replace(\"*\",\"\").replace(\"/\",\"\") for key in lst.keys()]\n",
    "\n",
    "# [.은 _로 /는 제거, *도 제거 \n",
    "\n",
    "len(set(l))"
   ]
  },
  {
   "cell_type": "code",
   "execution_count": null,
   "metadata": {},
   "outputs": [],
   "source": [
    "list_convert = list(lst.keys())"
   ]
  },
  {
   "cell_type": "code",
   "execution_count": null,
   "metadata": {},
   "outputs": [],
   "source": [
    "google.multi_download(\n",
    "    folder_name= \"CoinGecko2\",\n",
    "    file_loc=\"C:/Jehyeon/Crypto_paper/crypto_paper/gecko_drive/\",\n",
    "    file_name_list=list_convert)"
   ]
  },
  {
   "cell_type": "code",
   "execution_count": null,
   "metadata": {},
   "outputs": [],
   "source": [
    "gecko_lst = google.list_files(\"CoinGecko2\")"
   ]
  },
  {
   "cell_type": "code",
   "execution_count": null,
   "metadata": {},
   "outputs": [],
   "source": [
    "[key for key in gecko_lst.keys() if \"Ethe\" in key]"
   ]
  },
  {
   "cell_type": "code",
   "execution_count": null,
   "metadata": {},
   "outputs": [],
   "source": [
    "l = os.listdir(\"gecko_drive\")\n",
    "len(l)"
   ]
  },
  {
   "cell_type": "code",
   "execution_count": null,
   "metadata": {},
   "outputs": [],
   "source": [
    "gecko = CoinGecko()"
   ]
  },
  {
   "cell_type": "code",
   "execution_count": null,
   "metadata": {},
   "outputs": [],
   "source": [
    "coin_lst = gecko.get_coin_list()\n",
    "coin_lst[0]"
   ]
  },
  {
   "cell_type": "code",
   "execution_count": null,
   "metadata": {},
   "outputs": [],
   "source": [
    "len(os.listdir(\"coingecko\"))"
   ]
  },
  {
   "cell_type": "code",
   "execution_count": null,
   "metadata": {},
   "outputs": [],
   "source": [
    "# 이렇게 반복문으로 받으면 된다 / 저장은 Name으로\n",
    "error_list= []\n",
    "dot_list = []\n",
    "\n",
    "for coin_dict in tqdm(coin_lst[1800:5000]):\n",
    "    time.sleep(5)\n",
    "    try:\n",
    "        df = gecko.get_coin_price_cap(coin_dict[\"id\"])\n",
    "        if \".\" in coin_dict[\"name\"]:\n",
    "            dot_list.append(coin_dict)\n",
    "            continue\n",
    "        df.to_csv(\"coingecko/{}.csv\".format(coin_dict[\"name\"]))\n",
    "    except:\n",
    "        error_list.append(coin_dict)\n",
    "        continue\n",
    "\n",
    "# dot_list랑 error_list확인해야함!!"
   ]
  },
  {
   "cell_type": "code",
   "execution_count": null,
   "metadata": {},
   "outputs": [],
   "source": [
    "# 이렇게 반복문으로 받으면 된다 / 저장은 Name으로\n",
    "for coin_dict in tqdm(dot_list):\n",
    "    time.sleep(5)\n",
    "    try:\n",
    "        df = gecko.get_coin_price_cap(coin_dict[\"id\"])\n",
    "        if \".\" in coin_dict[\"name\"]:\n",
    "            name = str(coin_dict[\"name\"]).replace(\".\",\"_\")\n",
    "        df.to_csv(\"coingecko/{}.csv\".format(name))\n",
    "    except:\n",
    "        error_list.append(coin_dict)\n",
    "        continue\n",
    "\n",
    "# dot_list랑 error_list확인해야함!!"
   ]
  },
  {
   "cell_type": "code",
   "execution_count": null,
   "metadata": {},
   "outputs": [],
   "source": [
    "# 그리고 바로 구글 드라이브에 업로드\n",
    "from api import GoogleDrive\n",
    "file_lst = os.listdir(\"coingecko\")\n",
    "google = GoogleDrive(\"C://Jehyeon/Crypto_paper/crypto_paper/google.json/\")\n",
    "\n",
    "google.multi_upload(\n",
    "    folder_name= \"CoinGecko2\",\n",
    "    file_loc=\"C:/Jehyeon/Crypto_paper/crypto_paper/coingecko/\",\n",
    "    file_name_list=file_lst[3800:]\n",
    ")"
   ]
  },
  {
   "cell_type": "code",
   "execution_count": null,
   "metadata": {},
   "outputs": [],
   "source": [
    "i = 0\n",
    "google_dict = {}\n",
    "google_lst = google.list_files(\"CoinGecko\")\n",
    "\n",
    "for k,v in google_lst.items():\n",
    "    i+= 1\n",
    "    if i > 12060:\n",
    "        google_dict[k] = v\n",
    "google.multi_download(\n",
    "    folder_name= \"CoinGecko\",\n",
    "    file_loc=\"C:/Jehyeon/Crypto_paper/crypto_paper/gecko_drive/\",\n",
    "    file_name_list=google_dict\n",
    ")"
   ]
  },
  {
   "cell_type": "code",
   "execution_count": null,
   "metadata": {},
   "outputs": [],
   "source": [
    "error_list"
   ]
  },
  {
   "attachments": {},
   "cell_type": "markdown",
   "metadata": {},
   "source": [
    "# 구글드라이브에서 데이터 받기"
   ]
  },
  {
   "cell_type": "code",
   "execution_count": null,
   "metadata": {},
   "outputs": [],
   "source": [
    "import os\n",
    "import numpy as np\n",
    "import pandas as pd\n",
    "from tqdm import tqdm\n",
    "from api import GoogleDrive"
   ]
  },
  {
   "cell_type": "code",
   "execution_count": null,
   "metadata": {},
   "outputs": [],
   "source": [
    "google = GoogleDrive(\"C://Jehyeon/Crypto_paper/crypto_paper/google.json/\")"
   ]
  },
  {
   "cell_type": "code",
   "execution_count": null,
   "metadata": {},
   "outputs": [],
   "source": [
    "google_lst = google.list_files(\"CoinGecko\")"
   ]
  },
  {
   "cell_type": "code",
   "execution_count": null,
   "metadata": {},
   "outputs": [],
   "source": [
    "i = 0\n",
    "google_dict = {}\n",
    "for k,v in google_lst.items():\n",
    "    i+= 1\n",
    "    if i > 12060:\n",
    "        google_dict[k] = v\n",
    "google.multi_download(\n",
    "    folder_name= \"CoinGecko\",\n",
    "    file_loc=\"C:/Jehyeon/Crypto_paper/crypto_paper/gecko_drive/\",\n",
    "    file_name_list=google_dict\n",
    ")"
   ]
  },
  {
   "cell_type": "code",
   "execution_count": null,
   "metadata": {},
   "outputs": [],
   "source": [
    "google.multi_download(\n",
    "    folder_name= \"CoinGecko\",\n",
    "    file_loc=\"C:/Jehyeon/Crypto_paper/crypto_paper/gecko_drive/\",\n",
    "    file_name_list=google_dict\n",
    ")"
   ]
  },
  {
   "cell_type": "code",
   "execution_count": null,
   "metadata": {},
   "outputs": [],
   "source": [
    "# 구글드라이브 데이터와 로컬의 데이터가 일치하는 지 확인\n",
    "google_key = list(google_lst.keys())\n",
    "not_in = []\n",
    "\n",
    "for file in os.listdir(\"coingecko\"):\n",
    "    if file not in google_key:\n",
    "        not_in.append(file)\n",
    "not_in"
   ]
  },
  {
   "attachments": {},
   "cell_type": "markdown",
   "metadata": {},
   "source": [
    "# 로컬 데이터 전처리"
   ]
  },
  {
   "cell_type": "code",
   "execution_count": null,
   "metadata": {},
   "outputs": [],
   "source": [
    "# timestamp를 맞춰주는 과정\n",
    "not_more_five = []\n",
    "execpt_list = []\n",
    "for file in tqdm(os.listdir(\"coingecko\")):\n",
    "    try:\n",
    "        # Unix to datetime코드\n",
    "        df = pd.read_csv(\"coingecko/{}\".format(file), index_col=0)\n",
    "        if df.shape[0] < 5:\n",
    "            not_more_five.append(file)\n",
    "            continue\n",
    "        elif len(str(df.Time[0])) == 13:\n",
    "            df.Time= pd.to_datetime(df.Time, unit=\"ms\")\n",
    "            df.Time.apply(lambda x: x.strftime(\"%Y-%m-%d\"))\n",
    "            df.to_csv(\"coingecko_pp/pp_{}\".format(file))\n",
    "        else:\n",
    "            df.to_csv(\"coingecko_pp/{}\".format(file))\n",
    "    except:\n",
    "        execpt_list.append(file)\n",
    "        continue"
   ]
  },
  {
   "cell_type": "code",
   "execution_count": null,
   "metadata": {},
   "outputs": [],
   "source": [
    "# 병국이가 원래 datetime으로 인덱스를 저장한 것만 불러와서 pp3에 저장해야한다\n",
    "exception_list = []\n",
    "ar = []\n",
    "for file in tqdm(os.listdir(\"coingecko\")):\n",
    "    try:\n",
    "        # Unix to datetime코드\n",
    "        df = pd.read_csv(\"coingecko/{}\".format(file), index_col=0)\n",
    "        if df.shape[0] < 5:\n",
    "            ar.append(file)\n",
    "            continue\n",
    "        elif str(df.index[0]).startswith(\"20\"):\n",
    "            df.to_csv(\"coingecko_pp3/{}\".format(file))\n",
    "    except:\n",
    "        exception_list.append(file)"
   ]
  },
  {
   "cell_type": "code",
   "execution_count": null,
   "metadata": {},
   "outputs": [],
   "source": [
    "exception_list"
   ]
  },
  {
   "cell_type": "code",
   "execution_count": null,
   "metadata": {},
   "outputs": [],
   "source": [
    "len(ar)"
   ]
  },
  {
   "cell_type": "code",
   "execution_count": null,
   "metadata": {},
   "outputs": [],
   "source": [
    "print(len(os.listdir(\"coingecko\")))\n",
    "print(len(os.listdir(\"coingecko_pp2\")))\n",
    "print(len(os.listdir(\"coingecko_pp3\")))\n",
    "# 이제 coingecko pp2와 coingecko pp3을 합치면된다"
   ]
  },
  {
   "cell_type": "code",
   "execution_count": null,
   "metadata": {},
   "outputs": [],
   "source": [
    "for file in tqdm(os.listdir(\"coingecko_pp2\")):\n",
    "    df = pd.read_csv(\"coingecko_pp2/{}\".format(file))\n",
    "    if str(file).startswith(\"pp_\"):\n",
    "        file = str(file)[3:]\n",
    "    df.to_csv(\"coingecko_pp3/{}\".format(file))"
   ]
  },
  {
   "cell_type": "code",
   "execution_count": null,
   "metadata": {},
   "outputs": [],
   "source": [
    "len(os.listdir(\"coingecko_pp3\"))"
   ]
  },
  {
   "attachments": {},
   "cell_type": "markdown",
   "metadata": {},
   "source": [
    "# 데이터 전처리"
   ]
  },
  {
   "cell_type": "code",
   "execution_count": null,
   "metadata": {},
   "outputs": [],
   "source": [
    "import os \n",
    "import pandas as pd\n",
    "from tqdm import tqdm"
   ]
  },
  {
   "cell_type": "code",
   "execution_count": null,
   "metadata": {},
   "outputs": [],
   "source": [
    "# 느린코드\n",
    "return_df = pd.DataFrame()\n",
    "\n",
    "for file in tqdm(os.listdir(\"coingecko_pp3\")[:6000]):\n",
    "    try:\n",
    "        df = pd.read_csv(\"coingecko_pp3/{}\".format(file), index_col=0)[[\"Price\",\"Time\"]]\n",
    "        df.index = pd.to_datetime(df.Time)\n",
    "        df = df.drop(\"Time\",axis=1)\n",
    "        col = list(return_df.columns)\n",
    "\n",
    "        return_df = pd.merge(return_df,df,\n",
    "                             left_index=True, right_index=True,\n",
    "                             how=\"outer\")\n",
    "        col.append(str(file[:-4]))\n",
    "        return_df.columns = col\n",
    "    except:\n",
    "        continue\n",
    "return_df"
   ]
  },
  {
   "cell_type": "code",
   "execution_count": null,
   "metadata": {},
   "outputs": [],
   "source": [
    "# 빠른코드\n",
    "coin_dict = {}\n",
    "\n",
    "for file in tqdm(os.listdir(\"coingecko_pp3\")):\n",
    "    try: # 내가 저장\n",
    "        df = pd.read_csv(\"coingecko_pp3/{}\".format(file), index_col=0)[[\"Time\",\"Price\",\"Marketcap\"]]\n",
    "        df.index = pd.to_datetime(df.Time)\n",
    "        df.index = df.index.strftime(\"%Y-%m-%d\")\n",
    "        df.drop(\"Time\", axis=1, inplace=True)\n",
    "        df.columns = [\"prices\",\"market_caps\"]\n",
    "        coin_dict[file] = df\n",
    "    except: # 병국이 저장\n",
    "        df = pd.read_csv(\"coingecko_pp3/{}\".format(file), index_col=0)[[\"prices\",\"market_caps\"]]\n",
    "        df.index = pd.to_datetime(df.index)\n",
    "        df.index = df.index.strftime(\"%Y-%m-%d\")\n",
    "        coin_dict[file] = df"
   ]
  },
  {
   "cell_type": "code",
   "execution_count": null,
   "metadata": {},
   "outputs": [],
   "source": [
    "coin_price_dict = {}\n",
    "for key,df in coin_dict.items():\n",
    "    coin_price_dict[key] = df[[\"prices\"]]"
   ]
  },
  {
   "cell_type": "code",
   "execution_count": null,
   "metadata": {},
   "outputs": [],
   "source": [
    "# find the longest timeframe index\n",
    "longest_index = max([df.index for df in coin_price_dict.values()], key=len)\n",
    "\n",
    "# create a close dataframe with the longest timeframe index and columns \"key1\", \"key2\", \"key3\"\n",
    "close_df = pd.DataFrame(index=longest_index, columns=coin_price_dict.keys())\n",
    "\n",
    "for key, df in tqdm(coin_price_dict.items()):\n",
    "    # use groupby and last to select the last value for each index\n",
    "    close_df[key] = df.groupby(df.index).last().reindex(longest_index)"
   ]
  },
  {
   "cell_type": "code",
   "execution_count": null,
   "metadata": {},
   "outputs": [],
   "source": [
    "print(os.listdir(\"coingecko_pp3\"))"
   ]
  },
  {
   "cell_type": "code",
   "execution_count": null,
   "metadata": {},
   "outputs": [],
   "source": [
    "#close_df[\"ethereum.csv\"].plot()"
   ]
  },
  {
   "cell_type": "code",
   "execution_count": null,
   "metadata": {},
   "outputs": [],
   "source": []
  },
  {
   "cell_type": "code",
   "execution_count": null,
   "metadata": {},
   "outputs": [],
   "source": []
  },
  {
   "attachments": {},
   "cell_type": "markdown",
   "metadata": {},
   "source": [
    "# 회귀분석"
   ]
  },
  {
   "cell_type": "code",
   "execution_count": null,
   "metadata": {},
   "outputs": [],
   "source": [
    "import os\n",
    "import numpy as np\n",
    "import pandas as pd\n",
    "import statsmodels.api as sm"
   ]
  },
  {
   "cell_type": "code",
   "execution_count": null,
   "metadata": {},
   "outputs": [],
   "source": [
    "# 데이터 불러오고 합치기\n",
    "#coin_dict = {}\n",
    "#\n",
    "#file_list = os.listdir(\"data\")\n",
    "#\n",
    "#for f in file_list:\n",
    "#    print(f)\n",
    "#    df = pd.read_csv(\"Data/\" + f, index_col=0,\n",
    "#                     parse_dates=True)[\"close\"]\n",
    "#    coin_dict[str(f)[:-4]] = df\n",
    "#\n",
    "#coin_df = pd.DataFrame(coin_dict)"
   ]
  },
  {
   "cell_type": "code",
   "execution_count": null,
   "metadata": {},
   "outputs": [],
   "source": [
    "# 합친 데이터 불러오기\n",
    "coin_df = pd.read_csv(\"all_coin_closeprice.csv\", index_col=0,\n",
    "                      parse_dates=True)\n",
    "\n",
    "# 0은 NaN으로 변경\n",
    "coin_df_with_nan = coin_df.replace(0,np.nan)"
   ]
  },
  {
   "cell_type": "code",
   "execution_count": null,
   "metadata": {},
   "outputs": [],
   "source": [
    "# 주간 리턴 계산\n",
    "save_dict = {}\n",
    "week_start  = pd.date_range(\"2010-01-01\",\"2022-12-31\", freq=\"W\")\n",
    "\n",
    "for i in range(len(week_start)-1):\n",
    "    w_start = week_start[i]\n",
    "    w_end = week_start[i+1] - pd.Timedelta(days=1)\n",
    "    tmp_df = coin_df_with_nan.loc[w_start:w_end] # 일주일치 데이터 추출\n",
    "    w_rtn = tmp_df.apply(lambda x: (x[-1] - x[0]) / x[0] + 1, axis=0) # 일주일간 리턴 계산\n",
    "    save_dict[w_start] = w_rtn\n",
    "\n",
    "weekly_return = pd.DataFrame(save_dict).T"
   ]
  },
  {
   "cell_type": "code",
   "execution_count": null,
   "metadata": {},
   "outputs": [],
   "source": [
    "# row별로 rank를 때려줌(수익률이 높을수록 0에 가까움) (NaN은 처리함)\n",
    "weekly_return_rank = weekly_return.rank(axis=1, pct=True, \n",
    "                                        ascending=False, na_option=\"keep\") \n",
    "weekly_return_rank"
   ]
  },
  {
   "cell_type": "code",
   "execution_count": null,
   "metadata": {},
   "outputs": [],
   "source": [
    "# rank를 기준으로 screening한 DataFrame을 만든다\n",
    "high = weekly_return_rank.apply(lambda x: np.where(x < 1/3, 1, np.nan))\n",
    "middle = weekly_return_rank.apply(lambda x: np.where(((x < 2/3) & (x >= 1/3)), 1, np.nan))\n",
    "low = weekly_return_rank.apply(lambda x: np.where(x >= 2/3, 1, np.nan))"
   ]
  },
  {
   "cell_type": "code",
   "execution_count": null,
   "metadata": {},
   "outputs": [],
   "source": [
    "# 분위수별 주간 리턴 구하기(평균처줌)\n",
    "high_rtn = (weekly_return * high).mean(skipna=True, axis=1)\n",
    "middle_rtn = (weekly_return * middle).mean(skipna=True, axis=1)\n",
    "low_rtn = (weekly_return * low).mean(skipna=True, axis=1)"
   ]
  },
  {
   "cell_type": "code",
   "execution_count": null,
   "metadata": {},
   "outputs": [],
   "source": [
    "# Sample기간 동안의 수익률 구하기 (기간을 길게 잡으니 inf가 뜸)\n",
    "a = high_rtn.loc[\"2020\":\"2022\"].cumprod()\n",
    "b = middle_rtn.loc[\"2020\":\"2022\"].cumprod()\n",
    "c = low_rtn.loc[\"2020\":\"2022\"].cumprod()"
   ]
  },
  {
   "cell_type": "code",
   "execution_count": null,
   "metadata": {},
   "outputs": [],
   "source": [
    "def do_regression(df, t):\n",
    "    '''t만큼 시차를 가진 regression'''\n",
    "    tmp_df = df.copy()\n",
    "    y = tmp_df.shift(-t)\n",
    "    concat = pd.concat([tmp_df, y], keys=[\"return\",\"return_\"+str(t)], axis=1) \\\n",
    "               .dropna()\n",
    "    model = sm.OLS(concat[\"return_\"+str(t)], concat[\"return\"])\n",
    "    result = model.fit(cov_type='HAC',cov_kwds={'maxlags':t}) #t-1인가?\n",
    "    return result"
   ]
  },
  {
   "cell_type": "code",
   "execution_count": null,
   "metadata": {},
   "outputs": [],
   "source": [
    "low_1 = do_regression(a, 1)\n",
    "low_2 = do_regression(a, 2)\n",
    "low_4 = do_regression(a, 4)\n",
    "\n",
    "middle_1 = do_regression(b, 1)\n",
    "middle_2 = do_regression(b, 2)\n",
    "middle_4 = do_regression(b, 4)\n",
    "\n",
    "high_1 = do_regression(c, 1)\n",
    "high_2 = do_regression(c, 2)\n",
    "high_4 = do_regression(c, 4)\n",
    "#rt1_1.params, rt1_1.pvalues"
   ]
  },
  {
   "cell_type": "code",
   "execution_count": null,
   "metadata": {},
   "outputs": [],
   "source": [
    "pd.DataFrame({\"R_t_t+1\": [low_1.params[0], middle_1.params[0], high_1.params[0]],\n",
    "              \"R_t_t+2\": [low_2.params[0], middle_2.params[0], high_2.params[0]],\n",
    "              \"R_t_t+4\": [low_4.params[0], middle_4.params[0], high_4.params[0]]},\n",
    "              index=[\"Low\",\"Middle\",\"Hogh\"])"
   ]
  },
  {
   "cell_type": "code",
   "execution_count": null,
   "metadata": {},
   "outputs": [],
   "source": []
  }
 ],
 "metadata": {
  "kernelspec": {
   "display_name": "base",
   "language": "python",
   "name": "python3"
  },
  "language_info": {
   "codemirror_mode": {
    "name": "ipython",
    "version": 3
   },
   "file_extension": ".py",
   "mimetype": "text/x-python",
   "name": "python",
   "nbconvert_exporter": "python",
   "pygments_lexer": "ipython3",
   "version": "3.9.12"
  },
  "orig_nbformat": 4,
  "vscode": {
   "interpreter": {
    "hash": "fc4ce337282713409848ab88928d893b9876b2e31d1d6213dd5811bcb294b195"
   }
  }
 },
 "nbformat": 4,
 "nbformat_minor": 2
}
