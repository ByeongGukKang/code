{
 "cells": [
  {
   "attachments": {},
   "cell_type": "markdown",
   "metadata": {},
   "source": [
    "# 구글드라이브에서 데이터 받기"
   ]
  },
  {
   "cell_type": "code",
   "execution_count": 1,
   "metadata": {},
   "outputs": [],
   "source": [
    "import os\n",
    "import numpy as np\n",
    "import pandas as pd\n",
    "from tqdm import tqdm\n",
    "from api import GoogleDrive"
   ]
  },
  {
   "cell_type": "code",
   "execution_count": 2,
   "metadata": {},
   "outputs": [
    {
     "name": "stderr",
     "output_type": "stream",
     "text": [
      "usage: ipykernel_launcher.py [-h] [--auth_host_name AUTH_HOST_NAME]\n",
      "                             [--noauth_local_webserver]\n",
      "                             [--auth_host_port [AUTH_HOST_PORT ...]]\n",
      "                             [--logging_level {DEBUG,INFO,WARNING,ERROR,CRITICAL}]\n",
      "ipykernel_launcher.py: error: unrecognized arguments: --ip=127.0.0.1 --stdin=9003 --control=9001 --hb=9000 --Session.signature_scheme=\"hmac-sha256\" --Session.key=b\"270e3b79-4ccc-4b32-a3e7-c93c175cfef3\" --shell=9002 --transport=\"tcp\" --iopub=9004 --f=c:\\Users\\user\\AppData\\Roaming\\jupyter\\runtime\\kernel-v2-663660HWUSkwVFzm.json\n"
     ]
    }
   ],
   "source": [
    "google = GoogleDrive(\"C://Jehyeon/Crypto_paper/crypto_paper/google.json/\")"
   ]
  },
  {
   "cell_type": "code",
   "execution_count": 3,
   "metadata": {},
   "outputs": [],
   "source": [
    "google_lst = google.list_files(\"CoinGecko\")"
   ]
  },
  {
   "cell_type": "code",
   "execution_count": 6,
   "metadata": {},
   "outputs": [],
   "source": [
    "i = 0\n",
    "google_dict = {}\n",
    "for k,v in google_lst.items():\n",
    "    i+= 1\n",
    "    if i > 12060:\n",
    "        google_dict[k] = v"
   ]
  },
  {
   "cell_type": "code",
   "execution_count": 7,
   "metadata": {},
   "outputs": [
    {
     "name": "stderr",
     "output_type": "stream",
     "text": [
      "Downloading Files...: 100%|██████████| 847/847 [21:37<00:00,  1.53s/it]\n"
     ]
    }
   ],
   "source": [
    "google.multi_download(\n",
    "    folder_name= \"CoinGecko\",\n",
    "    file_loc=\"C:/Jehyeon/Crypto_paper/crypto_paper/coingecko/\",\n",
    "    file_name_list=google_dict\n",
    ")"
   ]
  },
  {
   "cell_type": "code",
   "execution_count": 2,
   "metadata": {},
   "outputs": [
    {
     "ename": "NameError",
     "evalue": "name 'google_lst' is not defined",
     "output_type": "error",
     "traceback": [
      "\u001b[1;31m---------------------------------------------------------------------------\u001b[0m",
      "\u001b[1;31mNameError\u001b[0m                                 Traceback (most recent call last)",
      "\u001b[1;32m~\\AppData\\Local\\Temp\\ipykernel_12720\\2148789741.py\u001b[0m in \u001b[0;36m<module>\u001b[1;34m\u001b[0m\n\u001b[0;32m      1\u001b[0m \u001b[1;31m# 구글드라이브 데이터와 로컬의 데이터가 일치하는 지 확인\u001b[0m\u001b[1;33m\u001b[0m\u001b[1;33m\u001b[0m\u001b[0m\n\u001b[1;32m----> 2\u001b[1;33m \u001b[0mgoogle_key\u001b[0m \u001b[1;33m=\u001b[0m \u001b[0mlist\u001b[0m\u001b[1;33m(\u001b[0m\u001b[0mgoogle_lst\u001b[0m\u001b[1;33m.\u001b[0m\u001b[0mkeys\u001b[0m\u001b[1;33m(\u001b[0m\u001b[1;33m)\u001b[0m\u001b[1;33m)\u001b[0m\u001b[1;33m\u001b[0m\u001b[1;33m\u001b[0m\u001b[0m\n\u001b[0m\u001b[0;32m      3\u001b[0m \u001b[0mnot_in\u001b[0m \u001b[1;33m=\u001b[0m \u001b[1;33m[\u001b[0m\u001b[1;33m]\u001b[0m\u001b[1;33m\u001b[0m\u001b[1;33m\u001b[0m\u001b[0m\n\u001b[0;32m      4\u001b[0m \u001b[1;33m\u001b[0m\u001b[0m\n\u001b[0;32m      5\u001b[0m \u001b[1;32mfor\u001b[0m \u001b[0mfile\u001b[0m \u001b[1;32min\u001b[0m \u001b[0mos\u001b[0m\u001b[1;33m.\u001b[0m\u001b[0mlistdir\u001b[0m\u001b[1;33m(\u001b[0m\u001b[1;34m\"coingecko\"\u001b[0m\u001b[1;33m)\u001b[0m\u001b[1;33m:\u001b[0m\u001b[1;33m\u001b[0m\u001b[1;33m\u001b[0m\u001b[0m\n",
      "\u001b[1;31mNameError\u001b[0m: name 'google_lst' is not defined"
     ]
    }
   ],
   "source": [
    "# 구글드라이브 데이터와 로컬의 데이터가 일치하는 지 확인\n",
    "google_key = list(google_lst.keys())\n",
    "not_in = []\n",
    "\n",
    "for file in os.listdir(\"coingecko\"):\n",
    "    if file not in google_key:\n",
    "        not_in.append(file)\n",
    "not_in"
   ]
  },
  {
   "attachments": {},
   "cell_type": "markdown",
   "metadata": {},
   "source": [
    "# 로컬 데이터 전처리"
   ]
  },
  {
   "cell_type": "code",
   "execution_count": 23,
   "metadata": {},
   "outputs": [
    {
     "name": "stderr",
     "output_type": "stream",
     "text": [
      "100%|██████████| 12907/12907 [01:08<00:00, 189.50it/s]\n"
     ]
    }
   ],
   "source": [
    "# timestamp를 맞춰주는 과정\n",
    "not_more_five = []\n",
    "execpt_list = []\n",
    "for file in tqdm(os.listdir(\"coingecko\")):\n",
    "    try:\n",
    "        # Unix to datetime코드\n",
    "        df = pd.read_csv(\"coingecko/{}\".format(file), index_col=0)\n",
    "        if df.shape[0] < 5:\n",
    "            not_more_five.append(file)\n",
    "            continue\n",
    "        elif len(str(df.Time[0])) == 13:\n",
    "            df.Time= pd.to_datetime(df.Time, unit=\"ms\")\n",
    "            df.Time.apply(lambda x: x.strftime(\"%Y-%m-%d\"))\n",
    "            df.to_csv(\"coingecko_pp/pp_{}\".format(file))\n",
    "        else:\n",
    "            df.to_csv(\"coingecko_pp/{}\".format(file))\n",
    "    except:\n",
    "        execpt_list.append(file)\n",
    "        continue"
   ]
  },
  {
   "cell_type": "code",
   "execution_count": 82,
   "metadata": {},
   "outputs": [
    {
     "name": "stderr",
     "output_type": "stream",
     "text": [
      "100%|██████████| 12907/12907 [00:37<00:00, 347.02it/s]\n"
     ]
    }
   ],
   "source": [
    "# 병국이가 원래 datetime으로 인덱스를 저장한 것만 불러와서 pp3에 저장해야한다\n",
    "exception_list = []\n",
    "ar = []\n",
    "for file in tqdm(os.listdir(\"coingecko\")):\n",
    "    try:\n",
    "        # Unix to datetime코드\n",
    "        df = pd.read_csv(\"coingecko/{}\".format(file), index_col=0)\n",
    "        if df.shape[0] < 5:\n",
    "            ar.append(file)\n",
    "            continue\n",
    "        elif str(df.index[0]).startswith(\"20\"):\n",
    "            df.to_csv(\"coingecko_pp3/{}\".format(file))\n",
    "    except:\n",
    "        exception_list.append(file)"
   ]
  },
  {
   "cell_type": "code",
   "execution_count": 83,
   "metadata": {},
   "outputs": [
    {
     "data": {
      "text/plain": [
       "[]"
      ]
     },
     "execution_count": 83,
     "metadata": {},
     "output_type": "execute_result"
    }
   ],
   "source": [
    "exception_list"
   ]
  },
  {
   "cell_type": "code",
   "execution_count": 85,
   "metadata": {},
   "outputs": [
    {
     "data": {
      "text/plain": [
       "562"
      ]
     },
     "execution_count": 85,
     "metadata": {},
     "output_type": "execute_result"
    }
   ],
   "source": [
    "len(ar)"
   ]
  },
  {
   "cell_type": "code",
   "execution_count": 2,
   "metadata": {},
   "outputs": [
    {
     "name": "stdout",
     "output_type": "stream",
     "text": [
      "12907\n",
      "6432\n",
      "5913\n"
     ]
    }
   ],
   "source": [
    "print(len(os.listdir(\"coingecko\")))\n",
    "print(len(os.listdir(\"coingecko_pp2\")))\n",
    "print(len(os.listdir(\"coingecko_pp3\")))\n",
    "# 이제 coingecko pp2와 coingecko pp3을 합치면된다"
   ]
  },
  {
   "cell_type": "code",
   "execution_count": 6,
   "metadata": {},
   "outputs": [
    {
     "name": "stderr",
     "output_type": "stream",
     "text": [
      "100%|██████████| 6432/6432 [02:46<00:00, 38.64it/s]\n"
     ]
    }
   ],
   "source": [
    "for file in tqdm(os.listdir(\"coingecko_pp2\")):\n",
    "    df = pd.read_csv(\"coingecko_pp2/{}\".format(file))\n",
    "    if str(file).startswith(\"pp_\"):\n",
    "        file = str(file)[3:]\n",
    "    df.to_csv(\"coingecko_pp3/{}\".format(file))"
   ]
  },
  {
   "cell_type": "code",
   "execution_count": 8,
   "metadata": {},
   "outputs": [
    {
     "data": {
      "text/plain": [
       "12345"
      ]
     },
     "execution_count": 8,
     "metadata": {},
     "output_type": "execute_result"
    }
   ],
   "source": [
    "len(os.listdir(\"coingecko_pp3\"))"
   ]
  },
  {
   "attachments": {},
   "cell_type": "markdown",
   "metadata": {},
   "source": [
    "# 데이터 전처리"
   ]
  },
  {
   "cell_type": "code",
   "execution_count": 1,
   "metadata": {},
   "outputs": [],
   "source": [
    "import os \n",
    "import pandas as pd\n",
    "from tqdm import tqdm"
   ]
  },
  {
   "cell_type": "code",
   "execution_count": 11,
   "metadata": {},
   "outputs": [
    {
     "name": "stderr",
     "output_type": "stream",
     "text": [
      " 66%|██████▌   | 8086/12345 [1:05:41<6:13:23,  5.26s/it]"
     ]
    }
   ],
   "source": [
    "return_df = pd.DataFrame()\n",
    "\n",
    "for file in tqdm(os.listdir(\"coingecko_pp3\")[:5000]):\n",
    "    try:\n",
    "        df = pd.read_csv(\"coingecko_pp3/{}\".format(file), index_col=0)[[\"Price\",\"Time\"]]\n",
    "        df.index = pd.to_datetime(df.Time)\n",
    "        df = df.drop(\"Time\",axis=1)\n",
    "        col = list(return_df.columns)\n",
    "\n",
    "        return_df = pd.merge(return_df,df,\n",
    "                             left_index=True, right_index=True,\n",
    "                             how=\"outer\")\n",
    "        col.append(str(file[:-4]))\n",
    "        return_df.columns = col\n",
    "    except:\n",
    "        continue\n",
    "return_df"
   ]
  },
  {
   "cell_type": "code",
   "execution_count": null,
   "metadata": {},
   "outputs": [],
   "source": []
  },
  {
   "cell_type": "code",
   "execution_count": null,
   "metadata": {},
   "outputs": [],
   "source": []
  },
  {
   "cell_type": "code",
   "execution_count": null,
   "metadata": {},
   "outputs": [],
   "source": []
  },
  {
   "cell_type": "code",
   "execution_count": null,
   "metadata": {},
   "outputs": [],
   "source": []
  },
  {
   "attachments": {},
   "cell_type": "markdown",
   "metadata": {},
   "source": [
    "# 회귀분석"
   ]
  },
  {
   "cell_type": "code",
   "execution_count": null,
   "metadata": {},
   "outputs": [],
   "source": [
    "import os\n",
    "import numpy as np\n",
    "import pandas as pd\n",
    "import statsmodels.api as sm"
   ]
  },
  {
   "cell_type": "code",
   "execution_count": null,
   "metadata": {},
   "outputs": [],
   "source": [
    "# 데이터 불러오고 합치기\n",
    "#coin_dict = {}\n",
    "#\n",
    "#file_list = os.listdir(\"data\")\n",
    "#\n",
    "#for f in file_list:\n",
    "#    print(f)\n",
    "#    df = pd.read_csv(\"Data/\" + f, index_col=0,\n",
    "#                     parse_dates=True)[\"close\"]\n",
    "#    coin_dict[str(f)[:-4]] = df\n",
    "#\n",
    "#coin_df = pd.DataFrame(coin_dict)"
   ]
  },
  {
   "cell_type": "code",
   "execution_count": 2,
   "metadata": {},
   "outputs": [],
   "source": [
    "# 합친 데이터 불러오기\n",
    "coin_df = pd.read_csv(\"all_coin_closeprice.csv\", index_col=0,\n",
    "                      parse_dates=True)\n",
    "\n",
    "# 0은 NaN으로 변경\n",
    "coin_df_with_nan = coin_df.replace(0,np.nan)"
   ]
  },
  {
   "cell_type": "code",
   "execution_count": 3,
   "metadata": {},
   "outputs": [],
   "source": [
    "# 주간 리턴 계산\n",
    "save_dict = {}\n",
    "week_start  = pd.date_range(\"2010-01-01\",\"2022-12-31\", freq=\"W\")\n",
    "\n",
    "for i in range(len(week_start)-1):\n",
    "    w_start = week_start[i]\n",
    "    w_end = week_start[i+1] - pd.Timedelta(days=1)\n",
    "    tmp_df = coin_df_with_nan.loc[w_start:w_end] # 일주일치 데이터 추출\n",
    "    w_rtn = tmp_df.apply(lambda x: (x[-1] - x[0]) / x[0] + 1, axis=0) # 일주일간 리턴 계산\n",
    "    save_dict[w_start] = w_rtn\n",
    "\n",
    "weekly_return = pd.DataFrame(save_dict).T"
   ]
  },
  {
   "cell_type": "code",
   "execution_count": 10,
   "metadata": {},
   "outputs": [
    {
     "data": {
      "text/html": [
       "<div>\n",
       "<style scoped>\n",
       "    .dataframe tbody tr th:only-of-type {\n",
       "        vertical-align: middle;\n",
       "    }\n",
       "\n",
       "    .dataframe tbody tr th {\n",
       "        vertical-align: top;\n",
       "    }\n",
       "\n",
       "    .dataframe thead th {\n",
       "        text-align: right;\n",
       "    }\n",
       "</style>\n",
       "<table border=\"1\" class=\"dataframe\">\n",
       "  <thead>\n",
       "    <tr style=\"text-align: right;\">\n",
       "      <th></th>\n",
       "      <th>0XBTC</th>\n",
       "      <th>1CR</th>\n",
       "      <th>1GOLD</th>\n",
       "      <th>1INCH</th>\n",
       "      <th>1SG</th>\n",
       "      <th>1ST</th>\n",
       "      <th>1WO</th>\n",
       "      <th>2015</th>\n",
       "      <th>2BACCO</th>\n",
       "      <th>2GIVE</th>\n",
       "      <th>...</th>\n",
       "      <th>ZSC</th>\n",
       "      <th>ZT</th>\n",
       "      <th>ZUC</th>\n",
       "      <th>ZUM</th>\n",
       "      <th>ZUR</th>\n",
       "      <th>ZUSD</th>\n",
       "      <th>ZXC</th>\n",
       "      <th>ZYN</th>\n",
       "      <th>ZYRO</th>\n",
       "      <th>ZYTARA</th>\n",
       "    </tr>\n",
       "  </thead>\n",
       "  <tbody>\n",
       "    <tr>\n",
       "      <th>2010-01-03</th>\n",
       "      <td>NaN</td>\n",
       "      <td>NaN</td>\n",
       "      <td>NaN</td>\n",
       "      <td>NaN</td>\n",
       "      <td>NaN</td>\n",
       "      <td>NaN</td>\n",
       "      <td>NaN</td>\n",
       "      <td>NaN</td>\n",
       "      <td>NaN</td>\n",
       "      <td>NaN</td>\n",
       "      <td>...</td>\n",
       "      <td>NaN</td>\n",
       "      <td>NaN</td>\n",
       "      <td>NaN</td>\n",
       "      <td>NaN</td>\n",
       "      <td>NaN</td>\n",
       "      <td>NaN</td>\n",
       "      <td>NaN</td>\n",
       "      <td>NaN</td>\n",
       "      <td>NaN</td>\n",
       "      <td>NaN</td>\n",
       "    </tr>\n",
       "    <tr>\n",
       "      <th>2010-01-10</th>\n",
       "      <td>NaN</td>\n",
       "      <td>NaN</td>\n",
       "      <td>NaN</td>\n",
       "      <td>NaN</td>\n",
       "      <td>NaN</td>\n",
       "      <td>NaN</td>\n",
       "      <td>NaN</td>\n",
       "      <td>NaN</td>\n",
       "      <td>NaN</td>\n",
       "      <td>NaN</td>\n",
       "      <td>...</td>\n",
       "      <td>NaN</td>\n",
       "      <td>NaN</td>\n",
       "      <td>NaN</td>\n",
       "      <td>NaN</td>\n",
       "      <td>NaN</td>\n",
       "      <td>NaN</td>\n",
       "      <td>NaN</td>\n",
       "      <td>NaN</td>\n",
       "      <td>NaN</td>\n",
       "      <td>NaN</td>\n",
       "    </tr>\n",
       "    <tr>\n",
       "      <th>2010-01-17</th>\n",
       "      <td>NaN</td>\n",
       "      <td>NaN</td>\n",
       "      <td>NaN</td>\n",
       "      <td>NaN</td>\n",
       "      <td>NaN</td>\n",
       "      <td>NaN</td>\n",
       "      <td>NaN</td>\n",
       "      <td>NaN</td>\n",
       "      <td>NaN</td>\n",
       "      <td>NaN</td>\n",
       "      <td>...</td>\n",
       "      <td>NaN</td>\n",
       "      <td>NaN</td>\n",
       "      <td>NaN</td>\n",
       "      <td>NaN</td>\n",
       "      <td>NaN</td>\n",
       "      <td>NaN</td>\n",
       "      <td>NaN</td>\n",
       "      <td>NaN</td>\n",
       "      <td>NaN</td>\n",
       "      <td>NaN</td>\n",
       "    </tr>\n",
       "    <tr>\n",
       "      <th>2010-01-24</th>\n",
       "      <td>NaN</td>\n",
       "      <td>NaN</td>\n",
       "      <td>NaN</td>\n",
       "      <td>NaN</td>\n",
       "      <td>NaN</td>\n",
       "      <td>NaN</td>\n",
       "      <td>NaN</td>\n",
       "      <td>NaN</td>\n",
       "      <td>NaN</td>\n",
       "      <td>NaN</td>\n",
       "      <td>...</td>\n",
       "      <td>NaN</td>\n",
       "      <td>NaN</td>\n",
       "      <td>NaN</td>\n",
       "      <td>NaN</td>\n",
       "      <td>NaN</td>\n",
       "      <td>NaN</td>\n",
       "      <td>NaN</td>\n",
       "      <td>NaN</td>\n",
       "      <td>NaN</td>\n",
       "      <td>NaN</td>\n",
       "    </tr>\n",
       "    <tr>\n",
       "      <th>2010-01-31</th>\n",
       "      <td>NaN</td>\n",
       "      <td>NaN</td>\n",
       "      <td>NaN</td>\n",
       "      <td>NaN</td>\n",
       "      <td>NaN</td>\n",
       "      <td>NaN</td>\n",
       "      <td>NaN</td>\n",
       "      <td>NaN</td>\n",
       "      <td>NaN</td>\n",
       "      <td>NaN</td>\n",
       "      <td>...</td>\n",
       "      <td>NaN</td>\n",
       "      <td>NaN</td>\n",
       "      <td>NaN</td>\n",
       "      <td>NaN</td>\n",
       "      <td>NaN</td>\n",
       "      <td>NaN</td>\n",
       "      <td>NaN</td>\n",
       "      <td>NaN</td>\n",
       "      <td>NaN</td>\n",
       "      <td>NaN</td>\n",
       "    </tr>\n",
       "    <tr>\n",
       "      <th>...</th>\n",
       "      <td>...</td>\n",
       "      <td>...</td>\n",
       "      <td>...</td>\n",
       "      <td>...</td>\n",
       "      <td>...</td>\n",
       "      <td>...</td>\n",
       "      <td>...</td>\n",
       "      <td>...</td>\n",
       "      <td>...</td>\n",
       "      <td>...</td>\n",
       "      <td>...</td>\n",
       "      <td>...</td>\n",
       "      <td>...</td>\n",
       "      <td>...</td>\n",
       "      <td>...</td>\n",
       "      <td>...</td>\n",
       "      <td>...</td>\n",
       "      <td>...</td>\n",
       "      <td>...</td>\n",
       "      <td>...</td>\n",
       "      <td>...</td>\n",
       "    </tr>\n",
       "    <tr>\n",
       "      <th>2022-11-20</th>\n",
       "      <td>NaN</td>\n",
       "      <td>0.491228</td>\n",
       "      <td>NaN</td>\n",
       "      <td>0.286875</td>\n",
       "      <td>0.634665</td>\n",
       "      <td>0.226771</td>\n",
       "      <td>0.578298</td>\n",
       "      <td>0.431287</td>\n",
       "      <td>0.783951</td>\n",
       "      <td>0.565140</td>\n",
       "      <td>...</td>\n",
       "      <td>0.931774</td>\n",
       "      <td>0.682261</td>\n",
       "      <td>0.783951</td>\n",
       "      <td>0.612248</td>\n",
       "      <td>0.783951</td>\n",
       "      <td>0.554906</td>\n",
       "      <td>NaN</td>\n",
       "      <td>0.051007</td>\n",
       "      <td>0.866472</td>\n",
       "      <td>NaN</td>\n",
       "    </tr>\n",
       "    <tr>\n",
       "      <th>2022-11-27</th>\n",
       "      <td>NaN</td>\n",
       "      <td>0.387914</td>\n",
       "      <td>NaN</td>\n",
       "      <td>0.937947</td>\n",
       "      <td>0.546946</td>\n",
       "      <td>0.125081</td>\n",
       "      <td>0.529565</td>\n",
       "      <td>0.552632</td>\n",
       "      <td>0.769493</td>\n",
       "      <td>0.479045</td>\n",
       "      <td>...</td>\n",
       "      <td>0.959389</td>\n",
       "      <td>0.663418</td>\n",
       "      <td>0.644574</td>\n",
       "      <td>0.316602</td>\n",
       "      <td>0.026641</td>\n",
       "      <td>0.418454</td>\n",
       "      <td>NaN</td>\n",
       "      <td>0.052632</td>\n",
       "      <td>0.080572</td>\n",
       "      <td>NaN</td>\n",
       "    </tr>\n",
       "    <tr>\n",
       "      <th>2022-12-04</th>\n",
       "      <td>NaN</td>\n",
       "      <td>0.339617</td>\n",
       "      <td>NaN</td>\n",
       "      <td>0.939227</td>\n",
       "      <td>0.437439</td>\n",
       "      <td>0.783555</td>\n",
       "      <td>0.346116</td>\n",
       "      <td>0.467013</td>\n",
       "      <td>0.568573</td>\n",
       "      <td>0.383653</td>\n",
       "      <td>...</td>\n",
       "      <td>0.021937</td>\n",
       "      <td>0.568573</td>\n",
       "      <td>0.568573</td>\n",
       "      <td>0.215632</td>\n",
       "      <td>0.568573</td>\n",
       "      <td>0.314917</td>\n",
       "      <td>NaN</td>\n",
       "      <td>0.970101</td>\n",
       "      <td>0.675008</td>\n",
       "      <td>NaN</td>\n",
       "    </tr>\n",
       "    <tr>\n",
       "      <th>2022-12-11</th>\n",
       "      <td>NaN</td>\n",
       "      <td>0.559740</td>\n",
       "      <td>NaN</td>\n",
       "      <td>0.842208</td>\n",
       "      <td>0.481331</td>\n",
       "      <td>0.728571</td>\n",
       "      <td>0.538636</td>\n",
       "      <td>0.557955</td>\n",
       "      <td>0.777273</td>\n",
       "      <td>0.415097</td>\n",
       "      <td>...</td>\n",
       "      <td>0.980519</td>\n",
       "      <td>0.163799</td>\n",
       "      <td>0.163799</td>\n",
       "      <td>0.513636</td>\n",
       "      <td>0.857792</td>\n",
       "      <td>0.432143</td>\n",
       "      <td>NaN</td>\n",
       "      <td>0.031169</td>\n",
       "      <td>0.662987</td>\n",
       "      <td>NaN</td>\n",
       "    </tr>\n",
       "    <tr>\n",
       "      <th>2022-12-18</th>\n",
       "      <td>NaN</td>\n",
       "      <td>0.452836</td>\n",
       "      <td>NaN</td>\n",
       "      <td>0.208104</td>\n",
       "      <td>0.490438</td>\n",
       "      <td>0.087520</td>\n",
       "      <td>0.376337</td>\n",
       "      <td>0.409076</td>\n",
       "      <td>0.699352</td>\n",
       "      <td>0.471313</td>\n",
       "      <td>...</td>\n",
       "      <td>0.975527</td>\n",
       "      <td>0.699352</td>\n",
       "      <td>0.699352</td>\n",
       "      <td>0.538898</td>\n",
       "      <td>0.943922</td>\n",
       "      <td>0.445381</td>\n",
       "      <td>NaN</td>\n",
       "      <td>0.909238</td>\n",
       "      <td>0.047974</td>\n",
       "      <td>NaN</td>\n",
       "    </tr>\n",
       "  </tbody>\n",
       "</table>\n",
       "<p>677 rows × 3264 columns</p>\n",
       "</div>"
      ],
      "text/plain": [
       "            0XBTC       1CR  1GOLD     1INCH       1SG       1ST       1WO  \\\n",
       "2010-01-03    NaN       NaN    NaN       NaN       NaN       NaN       NaN   \n",
       "2010-01-10    NaN       NaN    NaN       NaN       NaN       NaN       NaN   \n",
       "2010-01-17    NaN       NaN    NaN       NaN       NaN       NaN       NaN   \n",
       "2010-01-24    NaN       NaN    NaN       NaN       NaN       NaN       NaN   \n",
       "2010-01-31    NaN       NaN    NaN       NaN       NaN       NaN       NaN   \n",
       "...           ...       ...    ...       ...       ...       ...       ...   \n",
       "2022-11-20    NaN  0.491228    NaN  0.286875  0.634665  0.226771  0.578298   \n",
       "2022-11-27    NaN  0.387914    NaN  0.937947  0.546946  0.125081  0.529565   \n",
       "2022-12-04    NaN  0.339617    NaN  0.939227  0.437439  0.783555  0.346116   \n",
       "2022-12-11    NaN  0.559740    NaN  0.842208  0.481331  0.728571  0.538636   \n",
       "2022-12-18    NaN  0.452836    NaN  0.208104  0.490438  0.087520  0.376337   \n",
       "\n",
       "                2015    2BACCO     2GIVE  ...       ZSC        ZT       ZUC  \\\n",
       "2010-01-03       NaN       NaN       NaN  ...       NaN       NaN       NaN   \n",
       "2010-01-10       NaN       NaN       NaN  ...       NaN       NaN       NaN   \n",
       "2010-01-17       NaN       NaN       NaN  ...       NaN       NaN       NaN   \n",
       "2010-01-24       NaN       NaN       NaN  ...       NaN       NaN       NaN   \n",
       "2010-01-31       NaN       NaN       NaN  ...       NaN       NaN       NaN   \n",
       "...              ...       ...       ...  ...       ...       ...       ...   \n",
       "2022-11-20  0.431287  0.783951  0.565140  ...  0.931774  0.682261  0.783951   \n",
       "2022-11-27  0.552632  0.769493  0.479045  ...  0.959389  0.663418  0.644574   \n",
       "2022-12-04  0.467013  0.568573  0.383653  ...  0.021937  0.568573  0.568573   \n",
       "2022-12-11  0.557955  0.777273  0.415097  ...  0.980519  0.163799  0.163799   \n",
       "2022-12-18  0.409076  0.699352  0.471313  ...  0.975527  0.699352  0.699352   \n",
       "\n",
       "                 ZUM       ZUR      ZUSD  ZXC       ZYN      ZYRO  ZYTARA  \n",
       "2010-01-03       NaN       NaN       NaN  NaN       NaN       NaN     NaN  \n",
       "2010-01-10       NaN       NaN       NaN  NaN       NaN       NaN     NaN  \n",
       "2010-01-17       NaN       NaN       NaN  NaN       NaN       NaN     NaN  \n",
       "2010-01-24       NaN       NaN       NaN  NaN       NaN       NaN     NaN  \n",
       "2010-01-31       NaN       NaN       NaN  NaN       NaN       NaN     NaN  \n",
       "...              ...       ...       ...  ...       ...       ...     ...  \n",
       "2022-11-20  0.612248  0.783951  0.554906  NaN  0.051007  0.866472     NaN  \n",
       "2022-11-27  0.316602  0.026641  0.418454  NaN  0.052632  0.080572     NaN  \n",
       "2022-12-04  0.215632  0.568573  0.314917  NaN  0.970101  0.675008     NaN  \n",
       "2022-12-11  0.513636  0.857792  0.432143  NaN  0.031169  0.662987     NaN  \n",
       "2022-12-18  0.538898  0.943922  0.445381  NaN  0.909238  0.047974     NaN  \n",
       "\n",
       "[677 rows x 3264 columns]"
      ]
     },
     "execution_count": 10,
     "metadata": {},
     "output_type": "execute_result"
    }
   ],
   "source": [
    "# row별로 rank를 때려줌(수익률이 높을수록 0에 가까움) (NaN은 처리함)\n",
    "weekly_return_rank = weekly_return.rank(axis=1, pct=True, \n",
    "                                        ascending=False, na_option=\"keep\") \n",
    "weekly_return_rank"
   ]
  },
  {
   "cell_type": "code",
   "execution_count": 11,
   "metadata": {},
   "outputs": [],
   "source": [
    "# rank를 기준으로 screening한 DataFrame을 만든다\n",
    "high = weekly_return_rank.apply(lambda x: np.where(x < 1/3, 1, np.nan))\n",
    "middle = weekly_return_rank.apply(lambda x: np.where(((x < 2/3) & (x >= 1/3)), 1, np.nan))\n",
    "low = weekly_return_rank.apply(lambda x: np.where(x >= 2/3, 1, np.nan))"
   ]
  },
  {
   "cell_type": "code",
   "execution_count": 12,
   "metadata": {},
   "outputs": [],
   "source": [
    "# 분위수별 주간 리턴 구하기(평균처줌)\n",
    "high_rtn = (weekly_return * high).mean(skipna=True, axis=1)\n",
    "middle_rtn = (weekly_return * middle).mean(skipna=True, axis=1)\n",
    "low_rtn = (weekly_return * low).mean(skipna=True, axis=1)"
   ]
  },
  {
   "cell_type": "code",
   "execution_count": 46,
   "metadata": {},
   "outputs": [],
   "source": [
    "# Sample기간 동안의 수익률 구하기 (기간을 길게 잡으니 inf가 뜸)\n",
    "a = high_rtn.loc[\"2020\":\"2022\"].cumprod()\n",
    "b = middle_rtn.loc[\"2020\":\"2022\"].cumprod()\n",
    "c = low_rtn.loc[\"2020\":\"2022\"].cumprod()"
   ]
  },
  {
   "cell_type": "code",
   "execution_count": 47,
   "metadata": {},
   "outputs": [],
   "source": [
    "def do_regression(df, t):\n",
    "    '''t만큼 시차를 가진 regression'''\n",
    "    tmp_df = df.copy()\n",
    "    y = tmp_df.shift(-t)\n",
    "    concat = pd.concat([tmp_df, y], keys=[\"return\",\"return_\"+str(t)], axis=1) \\\n",
    "               .dropna()\n",
    "    model = sm.OLS(concat[\"return_\"+str(t)], concat[\"return\"])\n",
    "    result = model.fit(cov_type='HAC',cov_kwds={'maxlags':t}) #t-1인가?\n",
    "    return result"
   ]
  },
  {
   "cell_type": "code",
   "execution_count": 48,
   "metadata": {},
   "outputs": [
    {
     "name": "stderr",
     "output_type": "stream",
     "text": [
      "c:\\Users\\user\\anaconda3\\lib\\site-packages\\statsmodels\\stats\\sandwich_covariance.py:242: RuntimeWarning: overflow encountered in multiply\n",
      "  xu = results.model.wexog * results.wresid[:, None]\n"
     ]
    }
   ],
   "source": [
    "low_1 = do_regression(a, 1)\n",
    "low_2 = do_regression(a, 2)\n",
    "low_4 = do_regression(a, 4)\n",
    "\n",
    "middle_1 = do_regression(b, 1)\n",
    "middle_2 = do_regression(b, 2)\n",
    "middle_4 = do_regression(b, 4)\n",
    "\n",
    "high_1 = do_regression(c, 1)\n",
    "high_2 = do_regression(c, 2)\n",
    "high_4 = do_regression(c, 4)\n",
    "#rt1_1.params, rt1_1.pvalues"
   ]
  },
  {
   "cell_type": "code",
   "execution_count": 51,
   "metadata": {},
   "outputs": [
    {
     "data": {
      "text/html": [
       "<div>\n",
       "<style scoped>\n",
       "    .dataframe tbody tr th:only-of-type {\n",
       "        vertical-align: middle;\n",
       "    }\n",
       "\n",
       "    .dataframe tbody tr th {\n",
       "        vertical-align: top;\n",
       "    }\n",
       "\n",
       "    .dataframe thead th {\n",
       "        text-align: right;\n",
       "    }\n",
       "</style>\n",
       "<table border=\"1\" class=\"dataframe\">\n",
       "  <thead>\n",
       "    <tr style=\"text-align: right;\">\n",
       "      <th></th>\n",
       "      <th>R_t_t+1</th>\n",
       "      <th>R_t_t+2</th>\n",
       "      <th>R_t_t+4</th>\n",
       "    </tr>\n",
       "  </thead>\n",
       "  <tbody>\n",
       "    <tr>\n",
       "      <th>Low</th>\n",
       "      <td>1.624224</td>\n",
       "      <td>2.380094</td>\n",
       "      <td>22.462557</td>\n",
       "    </tr>\n",
       "    <tr>\n",
       "      <th>Middle</th>\n",
       "      <td>0.995692</td>\n",
       "      <td>0.989949</td>\n",
       "      <td>0.981036</td>\n",
       "    </tr>\n",
       "    <tr>\n",
       "      <th>Hogh</th>\n",
       "      <td>0.882271</td>\n",
       "      <td>0.769769</td>\n",
       "      <td>0.565935</td>\n",
       "    </tr>\n",
       "  </tbody>\n",
       "</table>\n",
       "</div>"
      ],
      "text/plain": [
       "         R_t_t+1   R_t_t+2    R_t_t+4\n",
       "Low     1.624224  2.380094  22.462557\n",
       "Middle  0.995692  0.989949   0.981036\n",
       "Hogh    0.882271  0.769769   0.565935"
      ]
     },
     "execution_count": 51,
     "metadata": {},
     "output_type": "execute_result"
    }
   ],
   "source": [
    "pd.DataFrame({\"R_t_t+1\": [low_1.params[0], middle_1.params[0], high_1.params[0]],\n",
    "              \"R_t_t+2\": [low_2.params[0], middle_2.params[0], high_2.params[0]],\n",
    "              \"R_t_t+4\": [low_4.params[0], middle_4.params[0], high_4.params[0]]},\n",
    "              index=[\"Low\",\"Middle\",\"Hogh\"])"
   ]
  },
  {
   "cell_type": "code",
   "execution_count": null,
   "metadata": {},
   "outputs": [],
   "source": []
  }
 ],
 "metadata": {
  "kernelspec": {
   "display_name": "base",
   "language": "python",
   "name": "python3"
  },
  "language_info": {
   "codemirror_mode": {
    "name": "ipython",
    "version": 3
   },
   "file_extension": ".py",
   "mimetype": "text/x-python",
   "name": "python",
   "nbconvert_exporter": "python",
   "pygments_lexer": "ipython3",
   "version": "3.9.13"
  },
  "orig_nbformat": 4,
  "vscode": {
   "interpreter": {
    "hash": "a077222d77dfe082b8f1dd562ad70e458ac2ab76993a0b248ab0476e32e9e8dd"
   }
  }
 },
 "nbformat": 4,
 "nbformat_minor": 2
}
