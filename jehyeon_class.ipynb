{
 "cells": [
  {
   "attachments": {},
   "cell_type": "markdown",
   "metadata": {},
   "source": [
    "### Returns을 찍어보자"
   ]
  },
  {
   "cell_type": "code",
   "execution_count": null,
   "metadata": {},
   "outputs": [],
   "source": [
    "import numpy as np\n",
    "import pandas as pd \n",
    "import matplotlib.pyplot as plt\n",
    "from statsmodels.api import OLS, add_constant\n",
    "from scipy.stats import stats\n",
    "from tqdm import tqdm"
   ]
  },
  {
   "cell_type": "code",
   "execution_count": null,
   "metadata": {},
   "outputs": [],
   "source": [
    "mktcap = pd.read_pickle(\"ryu_mktcap.pickle\")\n",
    "price  = pd.read_pickle(\"ryu_price.pickle\")"
   ]
  },
  {
   "cell_type": "code",
   "execution_count": null,
   "metadata": {},
   "outputs": [],
   "source": [
    "class CrossSection:\n",
    "    def __init__(self, price_df:pd.DataFrame, mktcap_df:pd.DataFrame, freq:str):\n",
    "        '''freq(str) : [daily, 3days, weekly]'''\n",
    "        map_dict = {\"daily\" :[1, None],\n",
    "                    \"3days\" :[3, \"3D\"],\n",
    "                    \"weekly\":[7, \"W\"] }\n",
    "        self.__freq_str = freq\n",
    "        self.__freq_lst = map_dict[freq]\n",
    "        \n",
    "        self.__mkt = False\n",
    "        self.__daily_index = price_df.index\n",
    "        self.__daily_columns = price_df.columns\n",
    "        \n",
    "        self.__price_df = price_df.copy()\n",
    "        self.__mktcap = mktcap_df.copy()\n",
    "        self.__preprocess_cap = self.__preprocess_mktcap()\n",
    "        self.__preprocess_rtn = self.__preprocess_price()\n",
    "        \n",
    "    def __preprocess_price(self):\n",
    "        price = self.__price_df\n",
    "        pct = price.pct_change(self.__freq_lst[0], fill_method=None)\n",
    "        \n",
    "        if self.__freq_str == \"daily\":\n",
    "            pass\n",
    "        else:\n",
    "            pct = pct.resample(self.__freq_lst[1]).first()\n",
    "        sign = np.sign(price.loc[pct.index[:-1]])\n",
    "        rtn = pct * sign        \n",
    "        return rtn\n",
    "    \n",
    "    def __preprocess_mktcap(self):\n",
    "        mktcap = self.__mktcap\n",
    "        if self.__freq_str == \"daily\":\n",
    "            pass\n",
    "        else:\n",
    "            mktcap = mktcap.resample(self.__freq_lst[1]).first()\n",
    "        return mktcap\n",
    "    \n",
    "    def calculate_cagr(self, return_df):\n",
    "        #scaler = self.mapping_scaler[self.__freq_str]\n",
    "        holding_year = (len(return_df) / 365)\n",
    "        cum = (return_df+1).cumprod()\n",
    "        cagr = (cum.iloc[-1] / cum.iloc[0]) ** (1/holding_year) -1\n",
    "        return cagr\n",
    "    \n",
    "    def mkt_index(self):\n",
    "        self.__mkt = True\n",
    "        # rtn, mktcap 둘다 daily로 받아온다\n",
    "        rtn = self.__price_df.pct_change(fill_method=None)\n",
    "        mktcap = self.__mktcap\n",
    "        weight = mktcap.apply(lambda x: x / np.nansum(x), axis=1)\n",
    "        return (rtn* weight).sum(axis=1).iloc[:-1]\n",
    "        \n",
    "    def q_momentum(self, q:str, num_of_coin:int, return_num = False):\n",
    "        '''Q(str) : \"3\" 3분위, \"5\" 5분위 \n",
    "           num_of_coin : 그룹당 최소 코인 수 \n",
    "           return_num : 그룹별 코인수를 리턴할지(default : False)'''\n",
    "        mktcap = self.__preprocess_cap\n",
    "        prepro_rtn = self.__preprocess_rtn\n",
    "        daily_rtn = self.__price_df.pct_change(fill_method=None)\n",
    "        self.__return_num = return_num\n",
    "        q_map = {\"5\":[0.2, 0.4, 0.6, 0.8],\n",
    "                 \"3\":[1/3, 2/3]}\n",
    "        \n",
    "        thresh = prepro_rtn.apply(lambda x: np.nanquantile(x,q_map[q]),\n",
    "                           axis=1)\n",
    "        sum_dict = {}\n",
    "        weight_dict = {}\n",
    "        for i in tqdm(range(0, len(q_map[q]) + 1)):  \n",
    "                      \n",
    "            if i == 0: # 첫번째 분위수 계산\n",
    "                thr = thresh.apply(lambda x: x[i])\n",
    "                filter_df = prepro_rtn.apply(lambda x: x <= thr, axis=0) \\\n",
    "                           .replace(True, 1).replace(False, np.nan)\n",
    "            elif i == (len(q_map[q])): # 마지막 분위수 계산\n",
    "                thr = thresh.apply(lambda x: x[i-1])\n",
    "                filter_df = prepro_rtn.apply(lambda x: x > thr, axis=0) \\\n",
    "                          .replace(True, 1).replace(False, np.nan)\n",
    "            else: # 가운데인 경우\n",
    "                thr = thresh.apply(lambda x: x[i-1])\n",
    "                thr2 = thresh.apply(lambda x: x[i])\n",
    "                filter_df = prepro_rtn.apply(lambda x: (thr < x) & (x <= thr2), axis=0) \\\n",
    "                            .replace(True, 1).replace(False, np.nan)       \n",
    "            \n",
    "            sum_dict[str(i)] = filter_df.sum(1)\n",
    "            weight = (filter_df * mktcap).apply(lambda x: x / np.nansum(x), axis=1)\n",
    "            weight_dict[str(i)] = weight     \n",
    "        \n",
    "        num_coin = pd.concat(sum_dict, axis=1)        \n",
    "        slice = num_coin[num_coin >= num_of_coin].dropna(axis=0)\n",
    "        self.__start_date = slice.index[0]\n",
    "        print(\"{}에서부터 수익률을 계산\".format(self.__start_date))\n",
    "        \n",
    "        return_dict = {}\n",
    "        if self.__freq_str == \"daily\":\n",
    "            for i in tqdm(range(len(weight_dict.keys()))):\n",
    "                group_rtn = (weight_dict[str(i)].shift(1) * daily_rtn).loc[self.__start_date:].iloc[:-1].sum(1)\n",
    "                return_dict[\"Q\" + str(i+1)] = group_rtn\n",
    "        else:\n",
    "            for i in tqdm(range(len(weight_dict.keys()))):\n",
    "                daily_weight_converted = pd.DataFrame(index=self.__daily_index,\n",
    "                                                      columns=self.__daily_columns) \\\n",
    "                                                          .fillna(weight_dict[str(i)].shift(1)) \\\n",
    "                                                          .ffill(limit=6)\n",
    "                group_rtn = (daily_rtn * daily_weight_converted).loc[self.__start_date:].iloc[:-1].sum(1)\n",
    "                return_dict[\"Q\" + str(i+1)] = group_rtn\n",
    "            \n",
    "        if return_num:\n",
    "            return_dict[\"count\"] = num_coin.loc[self.__start_date:].iloc[:-1]\n",
    "            \n",
    "        return return_dict\n",
    "    \n",
    "    def q_momentum_rolling(self, q:str,num_of_coin:int, return_num = False):\n",
    "        mktcap = self.__preprocess_cap\n",
    "        prepro_rtn = self.__preprocess_rtn\n",
    "        daily_rtn = self.__price_df.pct_change(fill_method=None)\n",
    "        self.__return_num = return_num\n",
    "        q_map = {\"5\":[0.2, 0.4, 0.6, 0.8],\n",
    "                 \"3\":[1/3, 2/3]} \n",
    "        \n",
    "    \n",
    "    def run_alpha_regression(self, return_dict, constant=True):\n",
    "        '''add_constant : True(Default)/ False'''\n",
    "        \n",
    "        for key, strategy_df in return_dict.items():\n",
    "            if str(key) ==\"count\":\n",
    "                continue\n",
    "            tmp_mktrtn = self.mkt_index().loc[self.__start_date:]\n",
    "\n",
    "            if constant:\n",
    "                model = OLS(strategy_df, add_constant(tmp_mktrtn))\n",
    "            else:\n",
    "                model = OLS(strategy_df, tmp_mktrtn)\n",
    "            result = model.fit()\n",
    "\n",
    "            print(f\"{key} Regression Result\")\n",
    "            print(result.summary2())\n",
    "            \n",
    "    def print_statistics(self, return_dict, with_mkt:False):\n",
    "        self.mapping_scaler = {\"daily\":365,\n",
    "                          \"3days\":122,\n",
    "                          \"weekly\":52}\n",
    "        scaler = self.mapping_scaler[self.__freq_str]\n",
    "        df_key = list(return_dict.keys())\n",
    "        \n",
    "        if self.__return_num:\n",
    "            df_key = list(return_dict.keys())[:-1]\n",
    "            \n",
    "        mean = [df.mean().round(6) for key, df in return_dict.items() if key != \"count\"]          \n",
    "        std = [df.std() for key, df in return_dict.items() if key != \"count\"]\n",
    "        cagr =[self.calculate_cagr(df) * 100 for key, df in return_dict.items() if key != \"count\"]          \n",
    "        return_df = pd.DataFrame([cagr,mean,std], \n",
    "                                 index=[\"CAGR\", \"Mean\",\"STD\"], \n",
    "                                 columns=df_key)\n",
    "        if with_mkt:\n",
    "            mkt_index = self.mkt_index().loc[self.__start_date:]\n",
    "            mkt = pd.DataFrame([self.calculate_cagr(mkt_index), mkt_index.mean(), mkt_index.std()],\n",
    "                               index=[\"CAGR\", \"Mean\",\"STD\"], \n",
    "                               columns=[\"MKT\"])\n",
    "            return_df = pd.concat([return_df, mkt], axis=1)\n",
    "        return_df.loc[\"Shape\",:] = (return_df.loc[\"Mean\",:]*scaler)/ (return_df.loc[\"STD\",:]*np.sqrt(scaler))\n",
    "        return return_df\n",
    "        \n",
    "    def draw_return_result(self, return_dict:dict, with_mkt=False):\n",
    "        '''rtn_result : dict\n",
    "           with_mkt   : bool -> 마켓인덱스를 함께 그릴지 표시'''\n",
    "        if with_mkt:\n",
    "            mktrtn = self.mkt_index().loc[self.__start_date:]\n",
    "\n",
    "        for key, df in return_dict.items():\n",
    "            if str(key) == \"count\":\n",
    "                continue\n",
    "            fig, axes = plt.subplots(3,1, sharex=True, figsize=(24,24), \n",
    "                                     gridspec_kw={'height_ratios': [4, 1, 1]})\n",
    "            cum_df = (df+1).cumprod()\n",
    "            cum_df.plot(ax=axes[0])\n",
    "                \n",
    "            axes[0].set_title(\"{} Cross-Sectional Momentum Cummulative {} returns weighted by marketcap\".format(key,self.__freq_str))\n",
    "            axes[0].grid()\n",
    "            axes[0].legend([\"Startegy\",\"MKT\"])\n",
    "\n",
    "            peak = cum_df.cummax()\n",
    "            drawdown = (cum_df-peak)/peak\n",
    "            drawdown.plot(ax=axes[1])\n",
    "            axes[1].set_title(\"Draw Down\")\n",
    "            axes[1].grid()\n",
    "\n",
    "            df.plot(ax=axes[2])\n",
    "            axes[2].set_title(\"{} Returns\".format(self.__freq_str))\n",
    "            axes[2].grid()\n",
    "            \n",
    "            if with_mkt:\n",
    "                mktcum = (mktrtn+1).cumprod()\n",
    "                mktcum.plot(ax=axes[0])\n",
    "                axes[0].grid()\n",
    "                axes[0].legend([\"Startegy\",\"MKT\"])\n",
    "                peak = mktcum.cummax()\n",
    "                drawdown = (mktcum-peak) / peak\n",
    "                drawdown.plot(ax=axes[1])\n",
    "                axes[1].grid();               "
   ]
  },
  {
   "cell_type": "code",
   "execution_count": null,
   "metadata": {},
   "outputs": [],
   "source": [
    "sample = CrossSection(price, mktcap, freq=\"weekly\")\n",
    "mkt  = sample.mkt_index()"
   ]
  },
  {
   "cell_type": "code",
   "execution_count": null,
   "metadata": {},
   "outputs": [],
   "source": [
    "sample.draw_return_result({\"mkt\":mkt})"
   ]
  },
  {
   "cell_type": "code",
   "execution_count": null,
   "metadata": {},
   "outputs": [],
   "source": [
    "weekly = CrossSection(price, mktcap, freq=\"weekly\")\n",
    "q5_weekly = weekly.q_momentum(\"5\", 20, True)\n",
    "#three_weekly = weekly.q_momentum(\"3\", 20, True)"
   ]
  },
  {
   "cell_type": "code",
   "execution_count": null,
   "metadata": {},
   "outputs": [],
   "source": [
    "mkt = weekly.mkt_index()"
   ]
  },
  {
   "cell_type": "code",
   "execution_count": null,
   "metadata": {},
   "outputs": [],
   "source": [
    "weekly.draw_return_result(q5_weekly, with_mkt=False)"
   ]
  },
  {
   "cell_type": "code",
   "execution_count": null,
   "metadata": {},
   "outputs": [],
   "source": [
    "weekly.draw_return_result({\"mkt\":mkt})"
   ]
  },
  {
   "cell_type": "code",
   "execution_count": null,
   "metadata": {},
   "outputs": [],
   "source": [
    "weekly.print_statistics(q5_weekly, with_mkt=True)"
   ]
  },
  {
   "cell_type": "code",
   "execution_count": null,
   "metadata": {},
   "outputs": [],
   "source": [
    "daily = CrossSection(price, mktcap, freq=\"daily\")\n",
    "q5_daily = daily.q_momentum(\"5\", 20, False)"
   ]
  },
  {
   "cell_type": "code",
   "execution_count": null,
   "metadata": {},
   "outputs": [],
   "source": [
    "daily.draw_return_result(q5_daily, with_mkt=True)"
   ]
  },
  {
   "cell_type": "code",
   "execution_count": null,
   "metadata": {},
   "outputs": [],
   "source": [
    "daily.run_alpha_regression(q5_daily)"
   ]
  },
  {
   "cell_type": "code",
   "execution_count": null,
   "metadata": {},
   "outputs": [],
   "source": [
    "daily.print_statistics(q5_daily, with_mkt=True)"
   ]
  },
  {
   "cell_type": "code",
   "execution_count": null,
   "metadata": {},
   "outputs": [],
   "source": [
    "# 리턴이 통계적으로 다름을 보이기\n",
    "\n",
    "# weekly MKT returns의 통계량\n",
    "print(\"Coin MKT:\", mkt_sample.mean(), mkt_sample.std())\n",
    "\n",
    "# 5분위로 나눈 통계량\n",
    "print(\"G1:\", rtn1.mean().round(4), rtn1.std(ddof=1))\n",
    "print(\"G2:\", rtn2.mean().round(4), rtn2.std(ddof=1))\n",
    "print(\"G3:\", rtn3.mean().round(4), rtn3.std(ddof=1))\n",
    "print(\"G4:\", rtn4.mean().round(4), rtn4.std(ddof=1))\n",
    "print(\"G5:\", rtn5.mean().round(4), rtn5.std(ddof=1))\n",
    "\n",
    "t, p_val = stats.ttest_ind(rtn4, rtn5, equal_var=False)\n",
    "t, p_val"
   ]
  },
  {
   "cell_type": "code",
   "execution_count": null,
   "metadata": {},
   "outputs": [],
   "source": [
    "print(\"Market Return\")\n",
    "calculate_cagr(mkt_sample)\n",
    "\n",
    "print(\"----------------\")\n",
    "print(\"Group Return\")\n",
    "calculate_cagr(rtn1)\n",
    "calculate_cagr(rtn2)\n",
    "calculate_cagr(rtn3)\n",
    "calculate_cagr(rtn4)\n",
    "calculate_cagr(rtn5)"
   ]
  },
  {
   "cell_type": "code",
   "execution_count": null,
   "metadata": {},
   "outputs": [],
   "source": [
    "concat_df = pd.concat([rtn1, rtn2, rtn3, rtn4 , rtn5, mkt_sample], \n",
    "                      axis=1)\n",
    "concat_df.columns = [\"One\",\"Two\",\"Three\",\"Four\",\"Five\",\"MKT\"]\n",
    "\n",
    "concat_df.corr()"
   ]
  },
  {
   "cell_type": "code",
   "execution_count": null,
   "metadata": {},
   "outputs": [],
   "source": [
    "# 3개 그룹의 결과를 뽑자\n",
    "mkt_sample2 = result1.loc[start_date2:].iloc[:-1]\n",
    "rtn_s_sample = rtn_s.loc[start_date2:]\n",
    "rtn_m_sample = rtn_m.loc[start_date2:]\n",
    "rtn_h_sample = rtn_h.loc[start_date2:]"
   ]
  },
  {
   "cell_type": "code",
   "execution_count": null,
   "metadata": {},
   "outputs": [],
   "source": [
    "print(\"S:\", rtn_s_sample.mean().round(4), rtn_s_sample.std(ddof=1))\n",
    "print(\"M:\", rtn_m_sample.mean().round(4), rtn_m_sample.std(ddof=1))\n",
    "print(\"H:\", rtn_h_sample.mean().round(4), rtn_h_sample.std(ddof=1))"
   ]
  },
  {
   "cell_type": "code",
   "execution_count": null,
   "metadata": {},
   "outputs": [],
   "source": [
    "print(\"Market Return\")\n",
    "calculate_cagr(mkt_sample2)\n",
    "\n",
    "print(\"----------------\")\n",
    "print(\"Group Return\")\n",
    "calculate_cagr(rtn_s_sample)\n",
    "calculate_cagr(rtn_m_sample)\n",
    "calculate_cagr(rtn_h_sample)"
   ]
  },
  {
   "cell_type": "code",
   "execution_count": null,
   "metadata": {},
   "outputs": [],
   "source": [
    "concat_df2 = pd.concat([rtn_s_sample, rtn_m_sample,\n",
    "                        rtn_h_sample, mkt_sample2], \n",
    "                       axis=1)\n",
    "concat_df2.columns = [\"Low\",\"Middle\",\"High\",\"MKT\"]\n",
    "\n",
    "concat_df2.corr()"
   ]
  },
  {
   "cell_type": "code",
   "execution_count": null,
   "metadata": {},
   "outputs": [],
   "source": [
    "t, p_val = stats.ttest_ind(rtn_m_sample, \n",
    "                           rtn_h_sample)\n",
    "t,p_val"
   ]
  },
  {
   "cell_type": "code",
   "execution_count": null,
   "metadata": {},
   "outputs": [],
   "source": [
    "model = OLS(rtn_h_sample, \n",
    "            add_constant(mkt_sample2))\n",
    "                            \n",
    "model.fit().summary2()"
   ]
  },
  {
   "cell_type": "code",
   "execution_count": null,
   "metadata": {},
   "outputs": [],
   "source": [
    "(result1.loc[start_date2:].iloc[:-1] +1)\\\n",
    "    .cumprod().plot(figsize=(24,12), label=\"Strategy\")\n",
    "(mkt_sample +1).cumprod().plot(figsize=(24,12),\n",
    "                               label=\"MKT\")\n",
    "plt.legend();"
   ]
  },
  {
   "attachments": {},
   "cell_type": "markdown",
   "metadata": {},
   "source": [
    "* Long-Short 전략\n",
    "\n",
    "코인 롱숏은 숏 한방을 얻어 맞고 죽는듯....."
   ]
  },
  {
   "cell_type": "code",
   "execution_count": null,
   "metadata": {},
   "outputs": [],
   "source": []
  }
 ],
 "metadata": {
  "kernelspec": {
   "display_name": "base",
   "language": "python",
   "name": "python3"
  },
  "language_info": {
   "codemirror_mode": {
    "name": "ipython",
    "version": 3
   },
   "file_extension": ".py",
   "mimetype": "text/x-python",
   "name": "python",
   "nbconvert_exporter": "python",
   "pygments_lexer": "ipython3",
   "version": "3.9.13"
  },
  "orig_nbformat": 4
 },
 "nbformat": 4,
 "nbformat_minor": 2
}
