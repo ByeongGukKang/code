{
 "cells": [
  {
   "cell_type": "code",
   "execution_count": 1,
   "metadata": {},
   "outputs": [],
   "source": [
    "import numpy as np \n",
    "import pandas as pd\n",
    "import matplotlib.pyplot as plt"
   ]
  },
  {
   "cell_type": "code",
   "execution_count": 16,
   "metadata": {},
   "outputs": [],
   "source": [
    "coinmktcap = pd.read_pickle(\"coinmarketcap_data/2018~2023/coinmarketcap_close.pickle\")[[\"1\"]].pct_change()\n",
    "\n",
    "coincodex = pd.read_pickle(\"C:\\\\Jehyeon\\\\Crypto_paper\\\\crypto_paper\\\\ryu_new_price9.pickle\")[[\"BTC\"]].pct_change()\n",
    "\n",
    "pr = pd.read_pickle(\"C:\\\\Jehyeon\\\\Crypto_paper\\\\crypto_paper\\\\ddata.pickle\")\n",
    "prof_data = pd.pivot_table(pr, values=\"prc\",\n",
    "                           index=pr.index, columns=\"permno\")\n",
    "prof = prof_data[[\"BTCUSDT\"]].pct_change()\n",
    "\n",
    "cryptocompare = pd.read_csv(\"C:\\\\Jehyeon\\\\Crypto_paper\\\\crypto_paper\\\\all_coin_closeprice_cryptocompare.csv\",\n",
    "                            index_col=0, parse_dates=True)[[\"BTC\"]].pct_change()"
   ]
  },
  {
   "cell_type": "code",
   "execution_count": 18,
   "metadata": {},
   "outputs": [],
   "source": [
    "start = \"2018-04-19\"\n",
    "end = \"2022-12-30\""
   ]
  },
  {
   "cell_type": "code",
   "execution_count": 19,
   "metadata": {},
   "outputs": [
    {
     "data": {
      "text/html": [
       "<div>\n",
       "<style scoped>\n",
       "    .dataframe tbody tr th:only-of-type {\n",
       "        vertical-align: middle;\n",
       "    }\n",
       "\n",
       "    .dataframe tbody tr th {\n",
       "        vertical-align: top;\n",
       "    }\n",
       "\n",
       "    .dataframe thead th {\n",
       "        text-align: right;\n",
       "    }\n",
       "</style>\n",
       "<table border=\"1\" class=\"dataframe\">\n",
       "  <thead>\n",
       "    <tr style=\"text-align: right;\">\n",
       "      <th></th>\n",
       "      <th>1</th>\n",
       "      <th>1</th>\n",
       "    </tr>\n",
       "  </thead>\n",
       "  <tbody>\n",
       "    <tr>\n",
       "      <th>1</th>\n",
       "      <td>1.000000</td>\n",
       "      <td>-0.056415</td>\n",
       "    </tr>\n",
       "    <tr>\n",
       "      <th>1</th>\n",
       "      <td>-0.056415</td>\n",
       "      <td>1.000000</td>\n",
       "    </tr>\n",
       "  </tbody>\n",
       "</table>\n",
       "</div>"
      ],
      "text/plain": [
       "          1         1\n",
       "1  1.000000 -0.056415\n",
       "1 -0.056415  1.000000"
      ]
     },
     "execution_count": 19,
     "metadata": {},
     "output_type": "execute_result"
    }
   ],
   "source": [
    "pd.concat([btc_coinmktcap.loc[start:end], btc_coinmktcap.loc[start:end].shift(-1)], axis=1).corr()"
   ]
  },
  {
   "cell_type": "code",
   "execution_count": 22,
   "metadata": {},
   "outputs": [],
   "source": [
    "cor = pd.concat([cryptocompare.loc[start:end],\n",
    "                 prof.loc[start:end],\n",
    "                 coinmktcap.loc[start:end],\n",
    "                 coincodex.loc[start:end]],axis=1).corr()\n",
    "\n",
    "cor.index = [\"cryptocompare\",\"prof\",\"coinmktcap\",\"coincodex\"]\n",
    "cor.columns = [\"cryptocompare\",\"prof\",\"coinmktcap\",\"coincodex\"]"
   ]
  },
  {
   "cell_type": "code",
   "execution_count": 23,
   "metadata": {},
   "outputs": [
    {
     "data": {
      "text/html": [
       "<div>\n",
       "<style scoped>\n",
       "    .dataframe tbody tr th:only-of-type {\n",
       "        vertical-align: middle;\n",
       "    }\n",
       "\n",
       "    .dataframe tbody tr th {\n",
       "        vertical-align: top;\n",
       "    }\n",
       "\n",
       "    .dataframe thead th {\n",
       "        text-align: right;\n",
       "    }\n",
       "</style>\n",
       "<table border=\"1\" class=\"dataframe\">\n",
       "  <thead>\n",
       "    <tr style=\"text-align: right;\">\n",
       "      <th></th>\n",
       "      <th>cryptocompare</th>\n",
       "      <th>prof</th>\n",
       "      <th>coinmktcap</th>\n",
       "      <th>coincodex</th>\n",
       "    </tr>\n",
       "  </thead>\n",
       "  <tbody>\n",
       "    <tr>\n",
       "      <th>cryptocompare</th>\n",
       "      <td>1.000000</td>\n",
       "      <td>0.995164</td>\n",
       "      <td>0.994739</td>\n",
       "      <td>0.533569</td>\n",
       "    </tr>\n",
       "    <tr>\n",
       "      <th>prof</th>\n",
       "      <td>0.995164</td>\n",
       "      <td>1.000000</td>\n",
       "      <td>0.998631</td>\n",
       "      <td>0.557595</td>\n",
       "    </tr>\n",
       "    <tr>\n",
       "      <th>coinmktcap</th>\n",
       "      <td>0.994739</td>\n",
       "      <td>0.998631</td>\n",
       "      <td>1.000000</td>\n",
       "      <td>0.558699</td>\n",
       "    </tr>\n",
       "    <tr>\n",
       "      <th>coincodex</th>\n",
       "      <td>0.533569</td>\n",
       "      <td>0.557595</td>\n",
       "      <td>0.558699</td>\n",
       "      <td>1.000000</td>\n",
       "    </tr>\n",
       "  </tbody>\n",
       "</table>\n",
       "</div>"
      ],
      "text/plain": [
       "               cryptocompare      prof  coinmktcap  coincodex\n",
       "cryptocompare       1.000000  0.995164    0.994739   0.533569\n",
       "prof                0.995164  1.000000    0.998631   0.557595\n",
       "coinmktcap          0.994739  0.998631    1.000000   0.558699\n",
       "coincodex           0.533569  0.557595    0.558699   1.000000"
      ]
     },
     "execution_count": 23,
     "metadata": {},
     "output_type": "execute_result"
    }
   ],
   "source": [
    "cor"
   ]
  }
 ],
 "metadata": {
  "kernelspec": {
   "display_name": "base",
   "language": "python",
   "name": "python3"
  },
  "language_info": {
   "codemirror_mode": {
    "name": "ipython",
    "version": 3
   },
   "file_extension": ".py",
   "mimetype": "text/x-python",
   "name": "python",
   "nbconvert_exporter": "python",
   "pygments_lexer": "ipython3",
   "version": "3.9.13"
  },
  "orig_nbformat": 4
 },
 "nbformat": 4,
 "nbformat_minor": 2
}
