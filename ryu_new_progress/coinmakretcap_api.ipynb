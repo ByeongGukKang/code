{
 "cells": [
  {
   "cell_type": "code",
   "execution_count": null,
   "metadata": {},
   "outputs": [],
   "source": [
    "import requests\n",
    "import os\n",
    "import time\n",
    "import numpy as np \n",
    "import pandas as pd\n",
    "import matplotlib.pyplot as plt\n",
    "from tqdm import tqdm"
   ]
  },
  {
   "attachments": {},
   "cell_type": "markdown",
   "metadata": {},
   "source": [
    "# \"coin list\" download"
   ]
  },
  {
   "cell_type": "code",
   "execution_count": null,
   "metadata": {},
   "outputs": [],
   "source": [
    "def get_coin_list(isactive:bool):\n",
    "    url = 'https://pro-api.coinmarketcap.com/v1/cryptocurrency/map'\n",
    "\n",
    "    headers = {\n",
    "    'Accepts': 'application/json',\n",
    "    'X-CMC_PRO_API_KEY': 'e0070978-f2c5-4a31-b9b8-7705d84077bd',\n",
    "    }\n",
    "\n",
    "    isActive = 'active' if isactive else 'inactive'\n",
    "    params = {\n",
    "        'listing_status': isActive,\n",
    "    }\n",
    "\n",
    "    res = requests.get(url=url, headers=headers, params=params)\n",
    "\n",
    "    return res"
   ]
  },
  {
   "cell_type": "code",
   "execution_count": null,
   "metadata": {},
   "outputs": [],
   "source": [
    "# active랑 inactive를 가져옴\n",
    "active = get_coin_list(isactive=True)\n",
    "inactive = get_coin_list(isactive=False)"
   ]
  },
  {
   "cell_type": "code",
   "execution_count": null,
   "metadata": {},
   "outputs": [],
   "source": [
    "active_data = active.json()[\"data\"]\n",
    "inactive_data = inactive.json()[\"data\"]"
   ]
  },
  {
   "cell_type": "code",
   "execution_count": null,
   "metadata": {},
   "outputs": [],
   "source": [
    "df_active = pd.DataFrame(active_data)\n",
    "df_inactive = pd.DataFrame(inactive_data)\n",
    "df_active.head()"
   ]
  },
  {
   "cell_type": "code",
   "execution_count": null,
   "metadata": {},
   "outputs": [],
   "source": [
    "df_inactive.head()"
   ]
  },
  {
   "cell_type": "code",
   "execution_count": null,
   "metadata": {},
   "outputs": [],
   "source": [
    "col = [\"id\",\"name\",\"symbol\",\"slug\",\"is_active\",\"first_historical_data\",\"last_historical_data\"]\n",
    "df = pd.concat([df_active[col],df_inactive[col]]) \\\n",
    "       .dropna(thresh=6) \\\n",
    "       .reset_index(drop=True) # first_historical_data가 NaN인 친구들은 drop "
   ]
  },
  {
   "cell_type": "code",
   "execution_count": null,
   "metadata": {},
   "outputs": [],
   "source": [
    "df.to_csv(\"coin_list_coinmarketcap.csv\")"
   ]
  },
  {
   "attachments": {},
   "cell_type": "markdown",
   "metadata": {},
   "source": [
    "# OHLCV Download"
   ]
  },
  {
   "cell_type": "code",
   "execution_count": null,
   "metadata": {},
   "outputs": [],
   "source": [
    "coin_list = pd.read_csv(\"coin_list_coinmarketcap.csv\", index_col=0)\n",
    "coin_list.head()"
   ]
  },
  {
   "cell_type": "code",
   "execution_count": null,
   "metadata": {},
   "outputs": [],
   "source": [
    "#coin_list.iloc[-100:-50]"
   ]
  },
  {
   "cell_type": "code",
   "execution_count": null,
   "metadata": {},
   "outputs": [],
   "source": [
    "query_id = str(list(coin_list.id.values.tolist()))[1:-1].replace(\" \",\"\")\n",
    "query_id"
   ]
  },
  {
   "cell_type": "code",
   "execution_count": null,
   "metadata": {},
   "outputs": [],
   "source": [
    "numbers_list = list(map(int, query_id.split(\",\")))\n",
    "\n",
    "# Initialize an empty list to store the groups\n",
    "groups = []\n",
    "\n",
    "# Iterate over the list of numbers and split them into groups of five\n",
    "for i in range(0, len(numbers_list), 5):\n",
    "    group = numbers_list[i:i+5]\n",
    "    groups.append(group)\n",
    "\n",
    "# Convert each group into a string and join them with commas\n",
    "groups_strings = [\",\".join(map(str, group)) for group in groups]"
   ]
  },
  {
   "cell_type": "code",
   "execution_count": null,
   "metadata": {},
   "outputs": [],
   "source": [
    "def get_coin_ohlcv(group_string):\n",
    "    url = 'https://pro-api.coinmarketcap.com/v2/cryptocurrency/ohlcv/historical'\n",
    "\n",
    "    headers = {\n",
    "    'Accepts': 'application/json',\n",
    "    'X-CMC_PRO_API_KEY': 'e0070978-f2c5-4a31-b9b8-7705d84077bd',\n",
    "    }\n",
    "\n",
    "    params = {\n",
    "        \"id\" : group_string,\n",
    "        \"time_period\" : \"daily\", # hourly 가능...\n",
    "        \"time_start\" : \"2022-04-15\",   \n",
    "        \"time_end\":\"2022-04-16\",\n",
    "        \"count\":10000\n",
    "        }\n",
    "\n",
    "    res = requests.get(url=url, headers=headers, params=params)\n",
    "    return res"
   ]
  },
  {
   "attachments": {},
   "cell_type": "markdown",
   "metadata": {},
   "source": [
    "        \"time_start\" : \"2018-04-17\",\n",
    "        \"time_end\":\"2023-04-16\","
   ]
  },
  {
   "cell_type": "code",
   "execution_count": null,
   "metadata": {},
   "outputs": [],
   "source": [
    "len(groups_strings)\n",
    "# 500개씩 나눠서 보내자"
   ]
  },
  {
   "cell_type": "code",
   "execution_count": null,
   "metadata": {},
   "outputs": [],
   "source": [
    "return_dict = {}\n",
    "\n",
    "for string in tqdm(groups_strings[:500]):\n",
    "    s = string.split(\",\")[0]\n",
    "    time.sleep(0.4)\n",
    "    return_dict[\"g\"+str(s)] = get_coin_ohlcv(string)"
   ]
  },
  {
   "cell_type": "code",
   "execution_count": null,
   "metadata": {},
   "outputs": [],
   "source": [
    "final_list = []\n",
    "error_key = {}\n",
    "\n",
    "for key, values in tqdm(return_dict.items()):\n",
    "    try:\n",
    "        data = values.json()[\"data\"]\n",
    "        final_dict = {}\n",
    "        \n",
    "        for id, json in data.items():\n",
    "            df = pd.DataFrame(json[\"quotes\"])\n",
    "            df_time = df.iloc[:,0:4]\n",
    "\n",
    "            quote = df.quote\n",
    "            open = quote.apply(lambda x: x[\"USD\"][\"open\"])\n",
    "            open.name = \"open\"\n",
    "            close = quote.apply(lambda x: x[\"USD\"][\"close\"])\n",
    "            close.name = \"close\"\n",
    "            low = quote.apply(lambda x: x[\"USD\"][\"low\"])\n",
    "            low.name = \"low\"\n",
    "            high = quote.apply(lambda x: x[\"USD\"][\"high\"])\n",
    "            high.name = \"high\"\n",
    "            vol = quote.apply(lambda x: x[\"USD\"][\"volume\"])\n",
    "            vol.name = \"vol\"\n",
    "            mktcap = quote.apply(lambda x: x[\"USD\"][\"market_cap\"])\n",
    "            mktcap.name = \"mktcap\"\n",
    "\n",
    "            concat_df = pd.concat([df_time, open,close, low, high,vol,mktcap], axis=1)\n",
    "            final_dict[id] = concat_df\n",
    "    except:\n",
    "        error_key[id] = json\n",
    "        print(\"Error Raised!!\")\n",
    "        \n",
    "    final_list.append(final_dict)"
   ]
  },
  {
   "cell_type": "code",
   "execution_count": null,
   "metadata": {},
   "outputs": [],
   "source": [
    "len(final_list)"
   ]
  },
  {
   "cell_type": "code",
   "execution_count": null,
   "metadata": {},
   "outputs": [],
   "source": [
    "# Open, close, low, high, vol, mktcap, time 각각 따로 저장하자\n",
    "df_close = pd.DataFrame()\n",
    "df_low = pd.DataFrame()\n",
    "df_high = pd.DataFrame()\n",
    "df_vol = pd.DataFrame()\n",
    "df_mktcap = pd.DataFrame()\n",
    "df_open = pd.DataFrame()\n",
    "\n",
    "df_time_high = pd.DataFrame()\n",
    "df_time_low = pd.DataFrame()\n",
    "\n",
    "for data_dict in tqdm(final_list):\n",
    "    for coin_key, df in data_dict.items():\n",
    "        df.index = pd.to_datetime(df.time_open).dt.strftime('%Y-%m-%d')\n",
    "        \n",
    "        df_open[coin_key] = df.open\n",
    "        df_close[coin_key] = df.close\n",
    "        df_low[coin_key] = df.low\n",
    "        df_high[coin_key] = df.high\n",
    "        df_vol[coin_key] = df.vol\n",
    "        df_mktcap[coin_key] = df.mktcap\n",
    "        \n",
    "        df_time_high[coin_key] = df.time_high\n",
    "        df_time_low[coin_key] = df.time_low"
   ]
  },
  {
   "cell_type": "code",
   "execution_count": null,
   "metadata": {},
   "outputs": [],
   "source": [
    "(df_open.columns == df_mktcap.columns).mean()#[[\"1\"]].plot(figsize=(24,12));"
   ]
  },
  {
   "cell_type": "code",
   "execution_count": null,
   "metadata": {},
   "outputs": [],
   "source": [
    "# Save\n",
    "#df_close.to_pickle(\"df_close3.pickle\")\n",
    "#df_low.to_pickle(\"df_low3.pickle\")\n",
    "#df_high.to_pickle(\"df_high3.pickle\")\n",
    "#df_vol.to_pickle(\"df_vol3.pickle\")\n",
    "#df_mktcap.to_pickle(\"df_mktcap3.pickle\")\n",
    "#df_open.to_pickle(\"df_open3.pickle\")\n",
    "#\n",
    "#df_time_high.to_pickle(\"df_time_high3.pickle\")\n",
    "#df_time_low.to_pickle(\"df_time_low3.pickle\")"
   ]
  },
  {
   "attachments": {},
   "cell_type": "markdown",
   "metadata": {},
   "source": [
    "## Data Concat"
   ]
  },
  {
   "cell_type": "code",
   "execution_count": null,
   "metadata": {},
   "outputs": [],
   "source": [
    "d0,d1,d2,d3 = {},{},{},{}\n",
    "i = 0\n",
    "\n",
    "for dict in [d0,d1,d2,d3]:\n",
    "    for path in os.listdir(f\"coinmarketcap_data/{str(i)}\"):\n",
    "        read = pd.read_pickle(f\"coinmarketcap_data/{str(i)}/{path}\")\n",
    "        read.index = pd.to_datetime(read.index)\n",
    "        dict[path[:-7]] = read\n",
    "    i += 1"
   ]
  },
  {
   "cell_type": "code",
   "execution_count": null,
   "metadata": {},
   "outputs": [],
   "source": [
    "print(d0.keys())\n",
    "print(d1.keys())\n",
    "print(d2.keys())\n",
    "print(d3.keys())"
   ]
  },
  {
   "cell_type": "code",
   "execution_count": null,
   "metadata": {},
   "outputs": [],
   "source": []
  }
 ],
 "metadata": {
  "kernelspec": {
   "display_name": "base",
   "language": "python",
   "name": "python3"
  },
  "language_info": {
   "codemirror_mode": {
    "name": "ipython",
    "version": 3
   },
   "file_extension": ".py",
   "mimetype": "text/x-python",
   "name": "python",
   "nbconvert_exporter": "python",
   "pygments_lexer": "ipython3",
   "version": "3.9.13"
  },
  "orig_nbformat": 4
 },
 "nbformat": 4,
 "nbformat_minor": 2
}
