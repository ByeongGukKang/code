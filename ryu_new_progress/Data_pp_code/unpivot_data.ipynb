{
 "cells": [
  {
   "cell_type": "code",
   "execution_count": null,
   "metadata": {},
   "outputs": [],
   "source": [
    "import os\n",
    "import numpy as np\n",
    "import pandas as pd \n",
    "import matplotlib.pyplot as plt\n",
    "from tqdm import tqdm"
   ]
  },
  {
   "cell_type": "code",
   "execution_count": null,
   "metadata": {},
   "outputs": [],
   "source": [
    "path = \"C:\\\\Jehyeon\\\\Crypto_paper\\\\crypto_paper\\\\ryu_new_progress\\\\coinmarketcap_data\\\\2013-2023\"\n",
    "data_dict = {}\n",
    "\n",
    "for file in os.listdir(path):\n",
    "    name = file[11:-7]\n",
    "    data_dict[name] = pd.read_pickle(path+\"\\\\\"+file)"
   ]
  },
  {
   "cell_type": "code",
   "execution_count": null,
   "metadata": {},
   "outputs": [],
   "source": [
    "data_dict[\"close\"].reset_index()"
   ]
  },
  {
   "cell_type": "code",
   "execution_count": null,
   "metadata": {},
   "outputs": [],
   "source": [
    "sample_melt = pd.melt(data_dict[\"close\"].reset_index() ,\n",
    "                id_vars=[\"time_open\"])"
   ]
  },
  {
   "cell_type": "code",
   "execution_count": null,
   "metadata": {},
   "outputs": [],
   "source": [
    "drop = melt.dropna().reset_index(drop=True)"
   ]
  },
  {
   "cell_type": "code",
   "execution_count": null,
   "metadata": {},
   "outputs": [],
   "source": [
    "re_pivot = pd.pivot_table(drop, \n",
    "               values=\"value\",\n",
    "               index=\"time_open\",\n",
    "               columns=\"variable\")\n",
    "re_pivot.columns = re_pivot.columns.astype(\"int64\")\n",
    "re_pivot.sort_index(axis=1)"
   ]
  },
  {
   "cell_type": "code",
   "execution_count": null,
   "metadata": {},
   "outputs": [],
   "source": [
    "melt = pd.DataFrame(index=range(0,39388338), \n",
    "                    columns=[\"time_open\",\"coin\",\"close\",\"high\",\"low\",\"mktcap\",\"open\",\"timehigh\",\"timelow\",\"vol\"])\n",
    "melt[\"time_open\"] = sample_melt.time_open\n",
    "melt[\"coin\"] = sample_melt.variable"
   ]
  },
  {
   "cell_type": "code",
   "execution_count": null,
   "metadata": {},
   "outputs": [],
   "source": [
    "for key in tqdm(data_dict.keys()):\n",
    "    some_melt = pd.melt(data_dict[key].reset_index(),\n",
    "                        id_vars=[\"time_open\"]).value\n",
    "    melt[key] = some_melt"
   ]
  },
  {
   "cell_type": "code",
   "execution_count": null,
   "metadata": {},
   "outputs": [],
   "source": [
    "melt_drop = melt.dropna(thresh=4)\n",
    "melt_drop.columns = ['date', 'coin_id', 'close', \n",
    "                     'high', 'low', 'mktcap', 'open',\n",
    "                     'timehigh', 'timelow', 'vol']"
   ]
  },
  {
   "cell_type": "code",
   "execution_count": null,
   "metadata": {},
   "outputs": [],
   "source": [
    "melt_drop[[\"date\",\"coin_id\",\"open\",\"high\",\"low\",\"close\",\"vol\",\"mktcap\",\"timehigh\",\"timelow\"]].to_pickle(\"coinmarketcap_data.pickle\")\n"
   ]
  },
  {
   "cell_type": "code",
   "execution_count": null,
   "metadata": {},
   "outputs": [],
   "source": [
    "p = pd.pivot_table(melt_drop,\n",
    "               index=\"date\",\n",
    "               columns=\"coin_key\",\n",
    "               values=\"close\")"
   ]
  },
  {
   "cell_type": "code",
   "execution_count": null,
   "metadata": {},
   "outputs": [],
   "source": [
    "p.columns = p.columns.astype(\"int64\")\n",
    "p = p.sort_index(axis=1)"
   ]
  },
  {
   "cell_type": "code",
   "execution_count": null,
   "metadata": {},
   "outputs": [],
   "source": [
    "p[[1]].plot(figsize=(24,12));"
   ]
  },
  {
   "cell_type": "code",
   "execution_count": null,
   "metadata": {},
   "outputs": [],
   "source": []
  },
  {
   "cell_type": "code",
   "execution_count": null,
   "metadata": {},
   "outputs": [],
   "source": []
  }
 ],
 "metadata": {
  "language_info": {
   "name": "python"
  },
  "orig_nbformat": 4
 },
 "nbformat": 4,
 "nbformat_minor": 2
}
