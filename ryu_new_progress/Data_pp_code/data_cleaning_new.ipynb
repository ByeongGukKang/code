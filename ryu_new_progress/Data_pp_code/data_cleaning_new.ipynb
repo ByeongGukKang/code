{
 "cells": [
  {
   "attachments": {},
   "cell_type": "markdown",
   "metadata": {},
   "source": [
    "    차이점: 교수님 말씀대로 수동으로 다른 벤더의 값을 채우는게 아니라, 그냥 NaN으로 채우는 게 맞을 것 같다고 말씀하심"
   ]
  },
  {
   "cell_type": "code",
   "execution_count": 9,
   "metadata": {},
   "outputs": [],
   "source": [
    "import numpy as np \n",
    "import pandas as pd \n",
    "import matplotlib.pyplot as plt"
   ]
  },
  {
   "cell_type": "code",
   "execution_count": 10,
   "metadata": {},
   "outputs": [],
   "source": [
    "# Data Loading and pivot\n",
    "data = pd.read_pickle(\"Data/cdata_drop_stable.pickle\")"
   ]
  },
  {
   "cell_type": "code",
   "execution_count": 11,
   "metadata": {},
   "outputs": [
    {
     "data": {
      "text/plain": [
       "Index(['coin_id', 'open', 'high', 'low', 'close', 'vol', 'mktcap', 'timehigh',\n",
       "       'timelow'],\n",
       "      dtype='object')"
      ]
     },
     "execution_count": 11,
     "metadata": {},
     "output_type": "execute_result"
    }
   ],
   "source": [
    "data.columns"
   ]
  },
  {
   "attachments": {},
   "cell_type": "markdown",
   "metadata": {},
   "source": [
    "### 2. mktcap 음수 값 Check!\n",
    "\n",
    "LUA \n",
    "ZNZ"
   ]
  },
  {
   "cell_type": "code",
   "execution_count": 13,
   "metadata": {},
   "outputs": [],
   "source": [
    "data.loc[(data.index == \"2021-05-30\") & (data.coin_id == \"4286\"), \"mktcap\"] = np.nan\n",
    "data.loc[(data.index == \"2021-05-31\") & (data.coin_id == \"4286\"), \"mktcap\"] = np.nan\n",
    "data.loc[(data.index == \"2021-06-01\") & (data.coin_id == \"4286\"), \"mktcap\"] = np.nan\n",
    "\n",
    "data.loc[(data.index == \"2021-03-15\") & (data.coin_id == \"7216\"), \"mktcap\"] = np.nan\n",
    "data.loc[(data.index == \"2021-03-16\") & (data.coin_id == \"7216\"), \"mktcap\"] = np.nan\n",
    "data.loc[(data.index == \"2021-03-17\") & (data.coin_id == \"7216\"), \"mktcap\"] = np.nan"
   ]
  },
  {
   "attachments": {},
   "cell_type": "markdown",
   "metadata": {},
   "source": [
    "### 3. BTC weight가 이상한 날을 잡아보자"
   ]
  },
  {
   "attachments": {},
   "cell_type": "markdown",
   "metadata": {},
   "source": [
    "10월 2일 / 10월 3일\n",
    "\n",
    "7271 : Starname,IOV"
   ]
  },
  {
   "cell_type": "code",
   "execution_count": 14,
   "metadata": {},
   "outputs": [],
   "source": [
    "data.loc[(data.index == \"2021-10-02\") & (data.coin_id == \"7271\"), \"mktcap\"] = np.nan\n",
    "data.loc[(data.index == \"2021-10-02\") & (data.coin_id == \"7271\"), \"close\"] = np.nan\n",
    "\n",
    "data.loc[(data.index == \"2021-10-03\") & (data.coin_id == \"7271\"), \"mktcap\"] = np.nan\n",
    "data.loc[(data.index == \"2021-10-03\") & (data.coin_id == \"7271\"), \"close\"] = np.nan\n",
    "\n",
    "data.loc[(data.index == \"2021-10-04\") & (data.coin_id == \"7271\"), \"mktcap\"] = np.nan\n",
    "data.loc[(data.index == \"2021-10-04\") & (data.coin_id == \"7271\"), \"close\"] = np.nan"
   ]
  },
  {
   "cell_type": "code",
   "execution_count": 19,
   "metadata": {},
   "outputs": [],
   "source": [
    "# Save the Cleaned Data\n",
    "data.to_pickle(\"Data/cmktcap_data_final.pickle\")"
   ]
  }
 ],
 "metadata": {
  "kernelspec": {
   "display_name": "base",
   "language": "python",
   "name": "python3"
  },
  "language_info": {
   "codemirror_mode": {
    "name": "ipython",
    "version": 3
   },
   "file_extension": ".py",
   "mimetype": "text/x-python",
   "name": "python",
   "nbconvert_exporter": "python",
   "pygments_lexer": "ipython3",
   "version": "3.9.13"
  },
  "orig_nbformat": 4
 },
 "nbformat": 4,
 "nbformat_minor": 2
}
